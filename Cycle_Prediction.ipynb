{
 "cells": [
  {
   "cell_type": "code",
   "execution_count": 1,
   "id": "6fd89b55",
   "metadata": {},
   "outputs": [
    {
     "name": "stderr",
     "output_type": "stream",
     "text": [
      "c:\\users\\saikiran\\appdata\\local\\programs\\python\\python37\\lib\\site-packages\\tensorflow\\python\\framework\\dtypes.py:516: FutureWarning: Passing (type, 1) or '1type' as a synonym of type is deprecated; in a future version of numpy, it will be understood as (type, (1,)) / '(1,)type'.\n",
      "  _np_qint8 = np.dtype([(\"qint8\", np.int8, 1)])\n",
      "c:\\users\\saikiran\\appdata\\local\\programs\\python\\python37\\lib\\site-packages\\tensorflow\\python\\framework\\dtypes.py:517: FutureWarning: Passing (type, 1) or '1type' as a synonym of type is deprecated; in a future version of numpy, it will be understood as (type, (1,)) / '(1,)type'.\n",
      "  _np_quint8 = np.dtype([(\"quint8\", np.uint8, 1)])\n",
      "c:\\users\\saikiran\\appdata\\local\\programs\\python\\python37\\lib\\site-packages\\tensorflow\\python\\framework\\dtypes.py:518: FutureWarning: Passing (type, 1) or '1type' as a synonym of type is deprecated; in a future version of numpy, it will be understood as (type, (1,)) / '(1,)type'.\n",
      "  _np_qint16 = np.dtype([(\"qint16\", np.int16, 1)])\n",
      "c:\\users\\saikiran\\appdata\\local\\programs\\python\\python37\\lib\\site-packages\\tensorflow\\python\\framework\\dtypes.py:519: FutureWarning: Passing (type, 1) or '1type' as a synonym of type is deprecated; in a future version of numpy, it will be understood as (type, (1,)) / '(1,)type'.\n",
      "  _np_quint16 = np.dtype([(\"quint16\", np.uint16, 1)])\n",
      "c:\\users\\saikiran\\appdata\\local\\programs\\python\\python37\\lib\\site-packages\\tensorflow\\python\\framework\\dtypes.py:520: FutureWarning: Passing (type, 1) or '1type' as a synonym of type is deprecated; in a future version of numpy, it will be understood as (type, (1,)) / '(1,)type'.\n",
      "  _np_qint32 = np.dtype([(\"qint32\", np.int32, 1)])\n",
      "c:\\users\\saikiran\\appdata\\local\\programs\\python\\python37\\lib\\site-packages\\tensorflow\\python\\framework\\dtypes.py:525: FutureWarning: Passing (type, 1) or '1type' as a synonym of type is deprecated; in a future version of numpy, it will be understood as (type, (1,)) / '(1,)type'.\n",
      "  np_resource = np.dtype([(\"resource\", np.ubyte, 1)])\n",
      "c:\\users\\saikiran\\appdata\\local\\programs\\python\\python37\\lib\\site-packages\\tensorboard\\compat\\tensorflow_stub\\dtypes.py:541: FutureWarning: Passing (type, 1) or '1type' as a synonym of type is deprecated; in a future version of numpy, it will be understood as (type, (1,)) / '(1,)type'.\n",
      "  _np_qint8 = np.dtype([(\"qint8\", np.int8, 1)])\n",
      "c:\\users\\saikiran\\appdata\\local\\programs\\python\\python37\\lib\\site-packages\\tensorboard\\compat\\tensorflow_stub\\dtypes.py:542: FutureWarning: Passing (type, 1) or '1type' as a synonym of type is deprecated; in a future version of numpy, it will be understood as (type, (1,)) / '(1,)type'.\n",
      "  _np_quint8 = np.dtype([(\"quint8\", np.uint8, 1)])\n",
      "c:\\users\\saikiran\\appdata\\local\\programs\\python\\python37\\lib\\site-packages\\tensorboard\\compat\\tensorflow_stub\\dtypes.py:543: FutureWarning: Passing (type, 1) or '1type' as a synonym of type is deprecated; in a future version of numpy, it will be understood as (type, (1,)) / '(1,)type'.\n",
      "  _np_qint16 = np.dtype([(\"qint16\", np.int16, 1)])\n",
      "c:\\users\\saikiran\\appdata\\local\\programs\\python\\python37\\lib\\site-packages\\tensorboard\\compat\\tensorflow_stub\\dtypes.py:544: FutureWarning: Passing (type, 1) or '1type' as a synonym of type is deprecated; in a future version of numpy, it will be understood as (type, (1,)) / '(1,)type'.\n",
      "  _np_quint16 = np.dtype([(\"quint16\", np.uint16, 1)])\n",
      "c:\\users\\saikiran\\appdata\\local\\programs\\python\\python37\\lib\\site-packages\\tensorboard\\compat\\tensorflow_stub\\dtypes.py:545: FutureWarning: Passing (type, 1) or '1type' as a synonym of type is deprecated; in a future version of numpy, it will be understood as (type, (1,)) / '(1,)type'.\n",
      "  _np_qint32 = np.dtype([(\"qint32\", np.int32, 1)])\n",
      "c:\\users\\saikiran\\appdata\\local\\programs\\python\\python37\\lib\\site-packages\\tensorboard\\compat\\tensorflow_stub\\dtypes.py:550: FutureWarning: Passing (type, 1) or '1type' as a synonym of type is deprecated; in a future version of numpy, it will be understood as (type, (1,)) / '(1,)type'.\n",
      "  np_resource = np.dtype([(\"resource\", np.ubyte, 1)])\n"
     ]
    },
    {
     "ename": "AttributeError",
     "evalue": "module 'tensorflow._api.v1.random' has no attribute 'set_seed'",
     "output_type": "error",
     "traceback": [
      "\u001b[1;31m---------------------------------------------------------------------------\u001b[0m",
      "\u001b[1;31mAttributeError\u001b[0m                            Traceback (most recent call last)",
      "\u001b[1;32m~\\AppData\\Local\\Temp\\ipykernel_9408\\2485138902.py\u001b[0m in \u001b[0;36m<module>\u001b[1;34m\u001b[0m\n\u001b[0;32m      4\u001b[0m \u001b[1;32mimport\u001b[0m \u001b[0mtensorflow\u001b[0m \u001b[1;32mas\u001b[0m \u001b[0mtf\u001b[0m\u001b[1;33m\u001b[0m\u001b[0m\n\u001b[0;32m      5\u001b[0m \u001b[1;31m# fix random seed for reproducibility\u001b[0m\u001b[1;33m\u001b[0m\u001b[1;33m\u001b[0m\u001b[0m\n\u001b[1;32m----> 6\u001b[1;33m \u001b[0mtf\u001b[0m\u001b[1;33m.\u001b[0m\u001b[0mrandom\u001b[0m\u001b[1;33m.\u001b[0m\u001b[0mset_seed\u001b[0m\u001b[1;33m(\u001b[0m\u001b[1;36m7\u001b[0m\u001b[1;33m)\u001b[0m\u001b[1;33m\u001b[0m\u001b[0m\n\u001b[0m\u001b[0;32m      7\u001b[0m \u001b[1;32mfrom\u001b[0m \u001b[0mtensorflow\u001b[0m\u001b[1;33m.\u001b[0m\u001b[0mkeras\u001b[0m\u001b[1;33m.\u001b[0m\u001b[0mmodels\u001b[0m \u001b[1;32mimport\u001b[0m \u001b[0mSequential\u001b[0m\u001b[1;33m\u001b[0m\u001b[0m\n\u001b[0;32m      8\u001b[0m \u001b[1;32mfrom\u001b[0m \u001b[0mtensorflow\u001b[0m\u001b[1;33m.\u001b[0m\u001b[0mkeras\u001b[0m\u001b[1;33m.\u001b[0m\u001b[0mlayers\u001b[0m \u001b[1;32mimport\u001b[0m \u001b[0mDense\u001b[0m\u001b[1;33m\u001b[0m\u001b[0m\n",
      "\u001b[1;32mc:\\users\\saikiran\\appdata\\local\\programs\\python\\python37\\lib\\site-packages\\tensorflow\\python\\util\\deprecation_wrapper.py\u001b[0m in \u001b[0;36m__getattr__\u001b[1;34m(self, name)\u001b[0m\n\u001b[0;32m    104\u001b[0m     \u001b[1;32mif\u001b[0m \u001b[0mname\u001b[0m\u001b[1;33m.\u001b[0m\u001b[0mstartswith\u001b[0m\u001b[1;33m(\u001b[0m\u001b[1;34m'_dw_'\u001b[0m\u001b[1;33m)\u001b[0m\u001b[1;33m:\u001b[0m\u001b[1;33m\u001b[0m\u001b[0m\n\u001b[0;32m    105\u001b[0m       \u001b[1;32mraise\u001b[0m \u001b[0mAttributeError\u001b[0m\u001b[1;33m(\u001b[0m\u001b[1;34m'Accessing local variables before they are created.'\u001b[0m\u001b[1;33m)\u001b[0m\u001b[1;33m\u001b[0m\u001b[0m\n\u001b[1;32m--> 106\u001b[1;33m     \u001b[0mattr\u001b[0m \u001b[1;33m=\u001b[0m \u001b[0mgetattr\u001b[0m\u001b[1;33m(\u001b[0m\u001b[0mself\u001b[0m\u001b[1;33m.\u001b[0m\u001b[0m_dw_wrapped_module\u001b[0m\u001b[1;33m,\u001b[0m \u001b[0mname\u001b[0m\u001b[1;33m)\u001b[0m\u001b[1;33m\u001b[0m\u001b[0m\n\u001b[0m\u001b[0;32m    107\u001b[0m     if (self._dw_warning_count < _PER_MODULE_WARNING_LIMIT and\n\u001b[0;32m    108\u001b[0m         name not in self._dw_deprecated_printed):\n",
      "\u001b[1;31mAttributeError\u001b[0m: module 'tensorflow._api.v1.random' has no attribute 'set_seed'"
     ]
    }
   ],
   "source": [
    "import numpy as np\n",
    "import matplotlib.pyplot as plt\n",
    "import pandas as pd\n",
    "import tensorflow as tf\n",
    "# fix random seed for reproducibility\n",
    "tf.random.set_seed(7)\n",
    "from tensorflow.keras.models import Sequential\n",
    "from tensorflow.keras.layers import Dense\n",
    "from tensorflow.keras.layers import LSTM\n",
    "from sklearn.preprocessing import MinMaxScaler\n",
    "from sklearn.metrics import mean_squared_error\n",
    "from sklearn.metrics import mean_absolute_error\n",
    " \n",
    "a=pd.read_csv('1ToyotaBattDatacorrected.csv')\n",
    "a.head()"
   ]
  },
  {
   "cell_type": "code",
   "execution_count": 2,
   "id": "31e780c7",
   "metadata": {},
   "outputs": [],
   "source": [
    "import numpy as np\n",
    "s = []\n",
    "for i in range(1008):\n",
    "    ac = a[a['cycle'] == (i+1)]['SoH']\n",
    "    k = np.mean(ac)\n",
    "    s.append(k)\n",
    "shi = pd.DataFrame({'SoH':s})"
   ]
  },
  {
   "cell_type": "code",
   "execution_count": 3,
   "id": "fdc313e6",
   "metadata": {},
   "outputs": [
    {
     "data": {
      "text/plain": [
       "1008"
      ]
     },
     "execution_count": 3,
     "metadata": {},
     "output_type": "execute_result"
    }
   ],
   "source": [
    "k = shi.iloc[:,:]\n",
    "k = np.array(k)\n",
    "k = k.flatten()\n",
    "len(k)"
   ]
  },
  {
   "cell_type": "code",
   "execution_count": 4,
   "id": "29547cf4",
   "metadata": {},
   "outputs": [
    {
     "data": {
      "text/html": [
       "<div>\n",
       "<style scoped>\n",
       "    .dataframe tbody tr th:only-of-type {\n",
       "        vertical-align: middle;\n",
       "    }\n",
       "\n",
       "    .dataframe tbody tr th {\n",
       "        vertical-align: top;\n",
       "    }\n",
       "\n",
       "    .dataframe thead th {\n",
       "        text-align: right;\n",
       "    }\n",
       "</style>\n",
       "<table border=\"1\" class=\"dataframe\">\n",
       "  <thead>\n",
       "    <tr style=\"text-align: right;\">\n",
       "      <th></th>\n",
       "      <th>index</th>\n",
       "      <th>SoH</th>\n",
       "    </tr>\n",
       "  </thead>\n",
       "  <tbody>\n",
       "    <tr>\n",
       "      <th>0</th>\n",
       "      <td>0</td>\n",
       "      <td>0.774642</td>\n",
       "    </tr>\n",
       "    <tr>\n",
       "      <th>1</th>\n",
       "      <td>1</td>\n",
       "      <td>0.773713</td>\n",
       "    </tr>\n",
       "    <tr>\n",
       "      <th>2</th>\n",
       "      <td>2</td>\n",
       "      <td>0.773076</td>\n",
       "    </tr>\n",
       "    <tr>\n",
       "      <th>3</th>\n",
       "      <td>3</td>\n",
       "      <td>0.773143</td>\n",
       "    </tr>\n",
       "    <tr>\n",
       "      <th>4</th>\n",
       "      <td>4</td>\n",
       "      <td>0.772612</td>\n",
       "    </tr>\n",
       "    <tr>\n",
       "      <th>...</th>\n",
       "      <td>...</td>\n",
       "      <td>...</td>\n",
       "    </tr>\n",
       "    <tr>\n",
       "      <th>1003</th>\n",
       "      <td>1003</td>\n",
       "      <td>0.655975</td>\n",
       "    </tr>\n",
       "    <tr>\n",
       "      <th>1004</th>\n",
       "      <td>1004</td>\n",
       "      <td>0.654306</td>\n",
       "    </tr>\n",
       "    <tr>\n",
       "      <th>1005</th>\n",
       "      <td>1005</td>\n",
       "      <td>0.652531</td>\n",
       "    </tr>\n",
       "    <tr>\n",
       "      <th>1006</th>\n",
       "      <td>1006</td>\n",
       "      <td>0.652455</td>\n",
       "    </tr>\n",
       "    <tr>\n",
       "      <th>1007</th>\n",
       "      <td>1007</td>\n",
       "      <td>0.653562</td>\n",
       "    </tr>\n",
       "  </tbody>\n",
       "</table>\n",
       "<p>1008 rows × 2 columns</p>\n",
       "</div>"
      ],
      "text/plain": [
       "      index       SoH\n",
       "0         0  0.774642\n",
       "1         1  0.773713\n",
       "2         2  0.773076\n",
       "3         3  0.773143\n",
       "4         4  0.772612\n",
       "...     ...       ...\n",
       "1003   1003  0.655975\n",
       "1004   1004  0.654306\n",
       "1005   1005  0.652531\n",
       "1006   1006  0.652455\n",
       "1007   1007  0.653562\n",
       "\n",
       "[1008 rows x 2 columns]"
      ]
     },
     "execution_count": 4,
     "metadata": {},
     "output_type": "execute_result"
    }
   ],
   "source": [
    "aa = pd.DataFrame({'index':list(np.arange(1008)),'SoH':k})\n",
    "aa"
   ]
  },
  {
   "cell_type": "code",
   "execution_count": 5,
   "id": "a7d188f7",
   "metadata": {},
   "outputs": [],
   "source": [
    "# load the dataset\n",
    "dataframe = aa['SoH']\n",
    "dataset = dataframe.values\n",
    "dataset = dataset.astype('float32')"
   ]
  },
  {
   "cell_type": "code",
   "execution_count": 6,
   "id": "da9f3958",
   "metadata": {},
   "outputs": [],
   "source": [
    "# normalize the dataset\n",
    "scaler = MinMaxScaler(feature_range=(0, 1))\n",
    "dataset = scaler.fit_transform(dataset.reshape(1008,1))"
   ]
  },
  {
   "cell_type": "markdown",
   "id": "c9cfeceb",
   "metadata": {},
   "source": [
    "## For 60 cycles"
   ]
  },
  {
   "cell_type": "code",
   "execution_count": 7,
   "id": "65176024",
   "metadata": {},
   "outputs": [
    {
     "name": "stdout",
     "output_type": "stream",
     "text": [
      "947 61\n"
     ]
    }
   ],
   "source": [
    "# split into train and test sets\n",
    "train_size = int(len(dataset) * 0.94)\n",
    "test_size = len(dataset) - train_size\n",
    "train, test = dataset[0:train_size,:], dataset[train_size:len(dataset),:]\n",
    "print(len(train), len(test))"
   ]
  },
  {
   "cell_type": "code",
   "execution_count": 8,
   "id": "e9ca3e1c",
   "metadata": {},
   "outputs": [],
   "source": [
    "# convert an array of values into a dataset matrix\n",
    "def create_dataset(dataset, look_back=1):\n",
    "    dataX, dataY = [], []\n",
    "    for i in range(len(dataset)-look_back-1):\n",
    "        a = dataset[i:(i+look_back), 0]\n",
    "        dataX.append(a)\n",
    "        dataY.append(dataset[i + look_back, 0])\n",
    "    return np.array(dataX), np.array(dataY)"
   ]
  },
  {
   "cell_type": "code",
   "execution_count": 9,
   "id": "8435b338",
   "metadata": {},
   "outputs": [],
   "source": [
    "# reshape into X=t and Y=t+1\n",
    "look_back = 1\n",
    "trainX, trainY = create_dataset(train, look_back)\n",
    "testX, testY = create_dataset(test, look_back)"
   ]
  },
  {
   "cell_type": "code",
   "execution_count": 10,
   "id": "52b2e59a",
   "metadata": {},
   "outputs": [],
   "source": [
    "# reshape input to be [samples, time steps, features]\n",
    "trainX = np.reshape(trainX, (trainX.shape[0], 1, trainX.shape[1]))\n",
    "testX = np.reshape(testX, (testX.shape[0], 1, testX.shape[1]))"
   ]
  },
  {
   "cell_type": "code",
   "execution_count": 11,
   "id": "4bf88353",
   "metadata": {
    "scrolled": true
   },
   "outputs": [
    {
     "name": "stdout",
     "output_type": "stream",
     "text": [
      "Epoch 1/100\n",
      "945/945 - 2s - loss: 0.0424 - 2s/epoch - 2ms/step\n",
      "Epoch 2/100\n",
      "945/945 - 1s - loss: 0.0032 - 1s/epoch - 1ms/step\n",
      "Epoch 3/100\n",
      "945/945 - 1s - loss: 6.9453e-04 - 961ms/epoch - 1ms/step\n",
      "Epoch 4/100\n",
      "945/945 - 1s - loss: 2.7731e-04 - 943ms/epoch - 997us/step\n",
      "Epoch 5/100\n",
      "945/945 - 1s - loss: 2.7307e-04 - 924ms/epoch - 978us/step\n",
      "Epoch 6/100\n",
      "945/945 - 1s - loss: 2.7484e-04 - 864ms/epoch - 915us/step\n",
      "Epoch 7/100\n",
      "945/945 - 1s - loss: 2.7345e-04 - 871ms/epoch - 922us/step\n",
      "Epoch 8/100\n",
      "945/945 - 1s - loss: 2.7462e-04 - 848ms/epoch - 897us/step\n",
      "Epoch 9/100\n",
      "945/945 - 1s - loss: 2.8513e-04 - 835ms/epoch - 884us/step\n",
      "Epoch 10/100\n",
      "945/945 - 1s - loss: 2.7967e-04 - 915ms/epoch - 969us/step\n",
      "Epoch 11/100\n",
      "945/945 - 1s - loss: 2.7099e-04 - 847ms/epoch - 897us/step\n",
      "Epoch 12/100\n",
      "945/945 - 1s - loss: 2.7727e-04 - 869ms/epoch - 920us/step\n",
      "Epoch 13/100\n",
      "945/945 - 1s - loss: 2.8247e-04 - 856ms/epoch - 906us/step\n",
      "Epoch 14/100\n",
      "945/945 - 1s - loss: 2.7809e-04 - 835ms/epoch - 883us/step\n",
      "Epoch 15/100\n",
      "945/945 - 1s - loss: 2.7317e-04 - 904ms/epoch - 957us/step\n",
      "Epoch 16/100\n",
      "945/945 - 1s - loss: 2.7298e-04 - 895ms/epoch - 947us/step\n",
      "Epoch 17/100\n",
      "945/945 - 1s - loss: 2.7820e-04 - 868ms/epoch - 918us/step\n",
      "Epoch 18/100\n",
      "945/945 - 1s - loss: 2.9094e-04 - 903ms/epoch - 956us/step\n",
      "Epoch 19/100\n",
      "945/945 - 1s - loss: 2.7860e-04 - 901ms/epoch - 953us/step\n",
      "Epoch 20/100\n",
      "945/945 - 1s - loss: 2.8292e-04 - 888ms/epoch - 940us/step\n",
      "Epoch 21/100\n",
      "945/945 - 1s - loss: 2.8659e-04 - 837ms/epoch - 886us/step\n",
      "Epoch 22/100\n",
      "945/945 - 1s - loss: 2.8639e-04 - 851ms/epoch - 901us/step\n",
      "Epoch 23/100\n",
      "945/945 - 1s - loss: 2.7181e-04 - 845ms/epoch - 894us/step\n",
      "Epoch 24/100\n",
      "945/945 - 1s - loss: 2.7670e-04 - 886ms/epoch - 938us/step\n",
      "Epoch 25/100\n",
      "945/945 - 1s - loss: 2.7683e-04 - 853ms/epoch - 902us/step\n",
      "Epoch 26/100\n",
      "945/945 - 1s - loss: 2.8422e-04 - 897ms/epoch - 949us/step\n",
      "Epoch 27/100\n",
      "945/945 - 1s - loss: 2.6913e-04 - 873ms/epoch - 924us/step\n",
      "Epoch 28/100\n",
      "945/945 - 1s - loss: 2.7256e-04 - 854ms/epoch - 903us/step\n",
      "Epoch 29/100\n",
      "945/945 - 1s - loss: 2.7990e-04 - 846ms/epoch - 895us/step\n",
      "Epoch 30/100\n",
      "945/945 - 1s - loss: 2.7645e-04 - 878ms/epoch - 929us/step\n",
      "Epoch 31/100\n",
      "945/945 - 1s - loss: 2.7750e-04 - 859ms/epoch - 909us/step\n",
      "Epoch 32/100\n",
      "945/945 - 1s - loss: 2.7774e-04 - 834ms/epoch - 882us/step\n",
      "Epoch 33/100\n",
      "945/945 - 1s - loss: 2.7751e-04 - 854ms/epoch - 903us/step\n",
      "Epoch 34/100\n",
      "945/945 - 1s - loss: 2.8004e-04 - 852ms/epoch - 901us/step\n",
      "Epoch 35/100\n",
      "945/945 - 1s - loss: 2.8745e-04 - 891ms/epoch - 943us/step\n",
      "Epoch 36/100\n",
      "945/945 - 1s - loss: 2.6629e-04 - 861ms/epoch - 911us/step\n",
      "Epoch 37/100\n",
      "945/945 - 1s - loss: 2.8289e-04 - 854ms/epoch - 904us/step\n",
      "Epoch 38/100\n",
      "945/945 - 1s - loss: 2.8175e-04 - 840ms/epoch - 889us/step\n",
      "Epoch 39/100\n",
      "945/945 - 1s - loss: 2.8127e-04 - 891ms/epoch - 943us/step\n",
      "Epoch 40/100\n",
      "945/945 - 1s - loss: 2.7407e-04 - 887ms/epoch - 939us/step\n",
      "Epoch 41/100\n",
      "945/945 - 1s - loss: 2.7439e-04 - 858ms/epoch - 908us/step\n",
      "Epoch 42/100\n",
      "945/945 - 1s - loss: 2.8088e-04 - 871ms/epoch - 922us/step\n",
      "Epoch 43/100\n",
      "945/945 - 1s - loss: 2.8101e-04 - 849ms/epoch - 898us/step\n",
      "Epoch 44/100\n",
      "945/945 - 1s - loss: 2.7883e-04 - 857ms/epoch - 907us/step\n",
      "Epoch 45/100\n",
      "945/945 - 1s - loss: 2.7249e-04 - 856ms/epoch - 906us/step\n",
      "Epoch 46/100\n",
      "945/945 - 1s - loss: 2.8434e-04 - 857ms/epoch - 907us/step\n",
      "Epoch 47/100\n",
      "945/945 - 1s - loss: 2.7553e-04 - 851ms/epoch - 900us/step\n",
      "Epoch 48/100\n",
      "945/945 - 1s - loss: 2.9394e-04 - 860ms/epoch - 910us/step\n",
      "Epoch 49/100\n",
      "945/945 - 1s - loss: 2.7069e-04 - 858ms/epoch - 908us/step\n",
      "Epoch 50/100\n",
      "945/945 - 1s - loss: 2.8050e-04 - 841ms/epoch - 890us/step\n",
      "Epoch 51/100\n",
      "945/945 - 1s - loss: 2.7540e-04 - 846ms/epoch - 895us/step\n",
      "Epoch 52/100\n",
      "945/945 - 1s - loss: 2.8251e-04 - 833ms/epoch - 882us/step\n",
      "Epoch 53/100\n",
      "945/945 - 1s - loss: 2.8159e-04 - 858ms/epoch - 908us/step\n",
      "Epoch 54/100\n",
      "945/945 - 1s - loss: 2.7532e-04 - 843ms/epoch - 892us/step\n",
      "Epoch 55/100\n",
      "945/945 - 1s - loss: 2.7950e-04 - 852ms/epoch - 901us/step\n",
      "Epoch 56/100\n",
      "945/945 - 1s - loss: 2.8887e-04 - 857ms/epoch - 907us/step\n",
      "Epoch 57/100\n",
      "945/945 - 1s - loss: 2.7176e-04 - 872ms/epoch - 923us/step\n",
      "Epoch 58/100\n",
      "945/945 - 1s - loss: 2.8214e-04 - 873ms/epoch - 923us/step\n",
      "Epoch 59/100\n",
      "945/945 - 1s - loss: 2.7725e-04 - 870ms/epoch - 921us/step\n",
      "Epoch 60/100\n",
      "945/945 - 1s - loss: 2.7721e-04 - 883ms/epoch - 935us/step\n",
      "Epoch 61/100\n",
      "945/945 - 1s - loss: 2.8120e-04 - 852ms/epoch - 901us/step\n",
      "Epoch 62/100\n",
      "945/945 - 1s - loss: 2.8394e-04 - 862ms/epoch - 912us/step\n",
      "Epoch 63/100\n",
      "945/945 - 1s - loss: 2.8293e-04 - 874ms/epoch - 925us/step\n",
      "Epoch 64/100\n",
      "945/945 - 1s - loss: 2.9095e-04 - 857ms/epoch - 907us/step\n",
      "Epoch 65/100\n",
      "945/945 - 1s - loss: 2.7960e-04 - 908ms/epoch - 961us/step\n",
      "Epoch 66/100\n",
      "945/945 - 1s - loss: 2.7840e-04 - 871ms/epoch - 922us/step\n",
      "Epoch 67/100\n",
      "945/945 - 1s - loss: 2.7226e-04 - 851ms/epoch - 900us/step\n",
      "Epoch 68/100\n",
      "945/945 - 1s - loss: 2.8105e-04 - 861ms/epoch - 911us/step\n",
      "Epoch 69/100\n",
      "945/945 - 1s - loss: 2.7845e-04 - 861ms/epoch - 911us/step\n",
      "Epoch 70/100\n",
      "945/945 - 1s - loss: 2.7870e-04 - 865ms/epoch - 916us/step\n",
      "Epoch 71/100\n",
      "945/945 - 1s - loss: 2.7365e-04 - 863ms/epoch - 913us/step\n",
      "Epoch 72/100\n",
      "945/945 - 1s - loss: 2.7773e-04 - 871ms/epoch - 922us/step\n",
      "Epoch 73/100\n",
      "945/945 - 1s - loss: 2.8428e-04 - 850ms/epoch - 900us/step\n",
      "Epoch 74/100\n",
      "945/945 - 1s - loss: 2.9052e-04 - 840ms/epoch - 889us/step\n",
      "Epoch 75/100\n",
      "945/945 - 1s - loss: 2.8211e-04 - 896ms/epoch - 948us/step\n",
      "Epoch 76/100\n",
      "945/945 - 1s - loss: 2.6934e-04 - 993ms/epoch - 1ms/step\n",
      "Epoch 77/100\n",
      "945/945 - 1s - loss: 2.7661e-04 - 959ms/epoch - 1ms/step\n",
      "Epoch 78/100\n",
      "945/945 - 1s - loss: 2.7315e-04 - 895ms/epoch - 947us/step\n",
      "Epoch 79/100\n",
      "945/945 - 1s - loss: 2.7363e-04 - 948ms/epoch - 1ms/step\n",
      "Epoch 80/100\n",
      "945/945 - 1s - loss: 2.7415e-04 - 989ms/epoch - 1ms/step\n",
      "Epoch 81/100\n",
      "945/945 - 1s - loss: 2.7896e-04 - 948ms/epoch - 1ms/step\n",
      "Epoch 82/100\n",
      "945/945 - 1s - loss: 2.7562e-04 - 948ms/epoch - 1ms/step\n",
      "Epoch 83/100\n",
      "945/945 - 1s - loss: 2.8081e-04 - 901ms/epoch - 953us/step\n",
      "Epoch 84/100\n",
      "945/945 - 1s - loss: 2.8563e-04 - 887ms/epoch - 939us/step\n",
      "Epoch 85/100\n",
      "945/945 - 1s - loss: 2.7528e-04 - 866ms/epoch - 916us/step\n",
      "Epoch 86/100\n",
      "945/945 - 1s - loss: 2.7937e-04 - 855ms/epoch - 905us/step\n",
      "Epoch 87/100\n",
      "945/945 - 1s - loss: 2.7678e-04 - 864ms/epoch - 914us/step\n",
      "Epoch 88/100\n",
      "945/945 - 1s - loss: 2.7148e-04 - 853ms/epoch - 903us/step\n",
      "Epoch 89/100\n",
      "945/945 - 1s - loss: 2.8745e-04 - 888ms/epoch - 940us/step\n",
      "Epoch 90/100\n",
      "945/945 - 1s - loss: 2.7898e-04 - 858ms/epoch - 908us/step\n",
      "Epoch 91/100\n",
      "945/945 - 1s - loss: 2.7445e-04 - 853ms/epoch - 903us/step\n",
      "Epoch 92/100\n",
      "945/945 - 1s - loss: 2.8373e-04 - 858ms/epoch - 908us/step\n",
      "Epoch 93/100\n",
      "945/945 - 1s - loss: 2.8231e-04 - 856ms/epoch - 906us/step\n",
      "Epoch 94/100\n",
      "945/945 - 1s - loss: 2.8464e-04 - 882ms/epoch - 934us/step\n",
      "Epoch 95/100\n",
      "945/945 - 1s - loss: 2.7433e-04 - 850ms/epoch - 900us/step\n",
      "Epoch 96/100\n",
      "945/945 - 1s - loss: 2.7476e-04 - 849ms/epoch - 899us/step\n",
      "Epoch 97/100\n",
      "945/945 - 1s - loss: 2.7233e-04 - 853ms/epoch - 902us/step\n",
      "Epoch 98/100\n",
      "945/945 - 1s - loss: 2.7563e-04 - 852ms/epoch - 902us/step\n",
      "Epoch 99/100\n",
      "945/945 - 1s - loss: 2.7432e-04 - 854ms/epoch - 904us/step\n",
      "Epoch 100/100\n",
      "945/945 - 1s - loss: 2.7223e-04 - 847ms/epoch - 896us/step\n"
     ]
    },
    {
     "data": {
      "text/plain": [
       "<keras.callbacks.History at 0x26ae86ded70>"
      ]
     },
     "execution_count": 11,
     "metadata": {},
     "output_type": "execute_result"
    }
   ],
   "source": [
    "model = Sequential()\n",
    "model.add(LSTM(4, input_shape=(1, look_back)))\n",
    "model.add(Dense(1))\n",
    "model.compile(loss='mean_squared_error', optimizer='adam')\n",
    "model.fit(trainX, trainY, epochs=100, batch_size=1, verbose=2)"
   ]
  },
  {
   "cell_type": "code",
   "execution_count": 12,
   "id": "beaebd91",
   "metadata": {},
   "outputs": [
    {
     "name": "stdout",
     "output_type": "stream",
     "text": [
      "30/30 [==============================] - 0s 705us/step\n",
      "2/2 [==============================] - 0s 7ms/step\n",
      "Train Score: 0.00 RMSE\n",
      "Test Score: 0.00 RMSE\n"
     ]
    }
   ],
   "source": [
    "# make predictions\n",
    "trainPredict = model.predict(trainX)\n",
    "testPredict = model.predict(testX)\n",
    "# invert predictions\n",
    "trainPredict = scaler.inverse_transform(trainPredict)\n",
    "trainY = scaler.inverse_transform([trainY])\n",
    "testPredict = scaler.inverse_transform(testPredict)\n",
    "testY = scaler.inverse_transform([testY])\n",
    "# calculate root mean squared error\n",
    "trainScore = np.sqrt(mean_squared_error(trainY[0], trainPredict[:,0]))\n",
    "print('Train Score: %.2f RMSE' % (trainScore))\n",
    "testScore = np.sqrt(mean_squared_error(testY[0], testPredict[:,0]))\n",
    "print('Test Score: %.2f RMSE' % (testScore))"
   ]
  },
  {
   "cell_type": "code",
   "execution_count": 13,
   "id": "2f84e450",
   "metadata": {},
   "outputs": [
    {
     "data": {
      "image/png": "[encoded data removed]",
      "text/plain": [
       "<Figure size 432x288 with 1 Axes>"
      ]
     },
     "metadata": {
      "needs_background": "light"
     },
     "output_type": "display_data"
    },
    {
     "name": "stdout",
     "output_type": "stream",
     "text": [
      "MSE: 1.2847408109718497e-05\n"
     ]
    }
   ],
   "source": [
    "# shift train predictions for plotting\n",
    "trainPredictPlot = np.empty_like(dataset)\n",
    "trainPredictPlot[:, :] = np.nan\n",
    "trainPredictPlot[look_back:len(trainPredict)+look_back, :] = trainPredict\n",
    "# shift test predictions for plotting\n",
    "testPredictPlot = np.empty_like(dataset)\n",
    "testPredictPlot[:, :] = np.nan\n",
    "testPredictPlot[len(trainPredict)+(look_back*2)+1:len(dataset)-1, :] = testPredict\n",
    "# plot baseline and predictions\n",
    "plt.plot(scaler.inverse_transform(dataset)+0.2)\n",
    "#plt.plot(trainPredictPlot,color='b')\n",
    "plt.plot(testPredictPlot+0.2,color='r')\n",
    "plt.xlabel('Cycles')\n",
    "plt.ylabel('SoH')\n",
    "plt.legend(['True Values','Predicted'])\n",
    "plt.show()\n",
    "print('MSE:',mean_squared_error(testY.T, testPredict))"
   ]
  },
  {
   "cell_type": "code",
   "execution_count": 14,
   "id": "723dd25d",
   "metadata": {},
   "outputs": [
    {
     "data": {
      "text/plain": [
       "59"
      ]
     },
     "execution_count": 14,
     "metadata": {},
     "output_type": "execute_result"
    }
   ],
   "source": [
    "len(testY.T)"
   ]
  },
  {
   "cell_type": "code",
   "execution_count": 15,
   "id": "ce557f36",
   "metadata": {},
   "outputs": [
    {
     "data": {
      "text/plain": [
       "59"
      ]
     },
     "execution_count": 15,
     "metadata": {},
     "output_type": "execute_result"
    }
   ],
   "source": [
    "len(testPredict)"
   ]
  },
  {
   "cell_type": "code",
   "execution_count": 16,
   "id": "7a76c7a0",
   "metadata": {},
   "outputs": [
    {
     "data": {
      "text/plain": [
       "Text(0, 0.5, 'SoH')"
      ]
     },
     "execution_count": 16,
     "metadata": {},
     "output_type": "execute_result"
    },
    {
     "data": {
      "image/png": "[encoded data removed]",
      "text/plain": [
       "<Figure size 432x288 with 1 Axes>"
      ]
     },
     "metadata": {
      "needs_background": "light"
     },
     "output_type": "display_data"
    }
   ],
   "source": [
    "plt.plot(testY.T+0.2)\n",
    "plt.plot(testPredict+0.2,color='r')\n",
    "plt.legend(['True Values','Predicted'])\n",
    "plt.xlabel('Cycles')\n",
    "plt.ylabel('SoH')"
   ]
  },
  {
   "cell_type": "code",
   "execution_count": 17,
   "id": "4ff31a35",
   "metadata": {},
   "outputs": [
    {
     "data": {
      "text/plain": [
       "0.00358431826354656"
      ]
     },
     "execution_count": 17,
     "metadata": {},
     "output_type": "execute_result"
    }
   ],
   "source": [
    "np.sqrt(mean_squared_error(testY.T+.2, testPredict+0.2))"
   ]
  },
  {
   "cell_type": "code",
   "execution_count": 18,
   "id": "abd1c1c9",
   "metadata": {},
   "outputs": [
    {
     "name": "stdout",
     "output_type": "stream",
     "text": [
      "RMSEP1: [0.00541974]\n",
      "rmse1: 0.0035843281252863133\n",
      "mse1: 1.2847408109718497e-05\n",
      "mae1: 0.0031278266060830247\n"
     ]
    }
   ],
   "source": [
    "rmse1 = np.sqrt(mean_squared_error(testY[0], testPredict[:,0]))\n",
    "mse1 = mean_squared_error(testY.T, testPredict)\n",
    "mae1 = mean_absolute_error(testY.T, testPredict)\n",
    "rmsep1 = np.sqrt(np.mean(np.square(((testY.T - testPredict) / testY.T)), axis=0))\n",
    "print('RMSEP1:', rmsep1)\n",
    "print('rmse1:', rmse1)\n",
    "print('mse1:', mse1)\n",
    "print('mae1:', mae1)"
   ]
  },
  {
   "cell_type": "markdown",
   "id": "1c212ebf",
   "metadata": {},
   "source": [
    "## For 70 cycles"
   ]
  },
  {
   "cell_type": "code",
   "execution_count": 19,
   "id": "f138c944",
   "metadata": {},
   "outputs": [
    {
     "name": "stdout",
     "output_type": "stream",
     "text": [
      "937 71\n"
     ]
    }
   ],
   "source": [
    "# split into train and test sets\n",
    "train_size = int(len(dataset) * 0.93)\n",
    "test_size = len(dataset) - train_size\n",
    "train, test = dataset[0:train_size,:], dataset[train_size:len(dataset),:]\n",
    "print(len(train), len(test))"
   ]
  },
  {
   "cell_type": "code",
   "execution_count": 20,
   "id": "17b8c029",
   "metadata": {},
   "outputs": [],
   "source": [
    "# reshape into X=t and Y=t+1\n",
    "look_back = 1\n",
    "trainX, trainY = create_dataset(train, look_back)\n",
    "testX, testY = create_dataset(test, look_back)"
   ]
  },
  {
   "cell_type": "code",
   "execution_count": 21,
   "id": "f88da8d8",
   "metadata": {},
   "outputs": [],
   "source": [
    "# reshape input to be [samples, time steps, features]\n",
    "trainX = np.reshape(trainX, (trainX.shape[0], 1, trainX.shape[1]))\n",
    "testX = np.reshape(testX, (testX.shape[0], 1, testX.shape[1]))"
   ]
  },
  {
   "cell_type": "code",
   "execution_count": 22,
   "id": "cb314e95",
   "metadata": {
    "scrolled": true
   },
   "outputs": [
    {
     "name": "stdout",
     "output_type": "stream",
     "text": [
      "Epoch 1/100\n",
      "935/935 - 2s - loss: 0.1177 - 2s/epoch - 2ms/step\n",
      "Epoch 2/100\n",
      "935/935 - 1s - loss: 0.0096 - 918ms/epoch - 982us/step\n",
      "Epoch 3/100\n",
      "935/935 - 1s - loss: 0.0048 - 852ms/epoch - 911us/step\n",
      "Epoch 4/100\n",
      "935/935 - 1s - loss: 0.0015 - 861ms/epoch - 921us/step\n",
      "Epoch 5/100\n",
      "935/935 - 1s - loss: 3.8713e-04 - 852ms/epoch - 911us/step\n",
      "Epoch 6/100\n",
      "935/935 - 1s - loss: 2.6879e-04 - 861ms/epoch - 921us/step\n",
      "Epoch 7/100\n",
      "935/935 - 1s - loss: 2.7711e-04 - 851ms/epoch - 910us/step\n",
      "Epoch 8/100\n",
      "935/935 - 1s - loss: 2.7206e-04 - 838ms/epoch - 896us/step\n",
      "Epoch 9/100\n",
      "935/935 - 1s - loss: 2.7627e-04 - 911ms/epoch - 974us/step\n",
      "Epoch 10/100\n",
      "935/935 - 1s - loss: 2.7903e-04 - 838ms/epoch - 896us/step\n",
      "Epoch 11/100\n",
      "935/935 - 1s - loss: 2.8526e-04 - 858ms/epoch - 918us/step\n",
      "Epoch 12/100\n",
      "935/935 - 1s - loss: 2.8480e-04 - 887ms/epoch - 949us/step\n",
      "Epoch 13/100\n",
      "935/935 - 1s - loss: 2.8589e-04 - 848ms/epoch - 907us/step\n",
      "Epoch 14/100\n",
      "935/935 - 1s - loss: 2.9052e-04 - 857ms/epoch - 916us/step\n",
      "Epoch 15/100\n",
      "935/935 - 1s - loss: 2.8584e-04 - 871ms/epoch - 932us/step\n",
      "Epoch 16/100\n",
      "935/935 - 1s - loss: 2.7742e-04 - 843ms/epoch - 902us/step\n",
      "Epoch 17/100\n",
      "935/935 - 1s - loss: 2.7483e-04 - 826ms/epoch - 884us/step\n",
      "Epoch 18/100\n",
      "935/935 - 1s - loss: 2.7554e-04 - 839ms/epoch - 897us/step\n",
      "Epoch 19/100\n",
      "935/935 - 1s - loss: 2.7264e-04 - 820ms/epoch - 877us/step\n",
      "Epoch 20/100\n",
      "935/935 - 1s - loss: 2.7221e-04 - 830ms/epoch - 888us/step\n",
      "Epoch 21/100\n",
      "935/935 - 1s - loss: 2.8077e-04 - 854ms/epoch - 914us/step\n",
      "Epoch 22/100\n",
      "935/935 - 1s - loss: 2.7067e-04 - 855ms/epoch - 914us/step\n",
      "Epoch 23/100\n",
      "935/935 - 1s - loss: 2.8096e-04 - 830ms/epoch - 887us/step\n",
      "Epoch 24/100\n",
      "935/935 - 1s - loss: 2.9318e-04 - 827ms/epoch - 885us/step\n",
      "Epoch 25/100\n",
      "935/935 - 1s - loss: 2.7386e-04 - 821ms/epoch - 878us/step\n",
      "Epoch 26/100\n",
      "935/935 - 1s - loss: 2.7474e-04 - 841ms/epoch - 899us/step\n",
      "Epoch 27/100\n",
      "935/935 - 1s - loss: 2.8422e-04 - 829ms/epoch - 887us/step\n",
      "Epoch 28/100\n",
      "935/935 - 1s - loss: 2.7740e-04 - 842ms/epoch - 900us/step\n",
      "Epoch 29/100\n",
      "935/935 - 1s - loss: 2.7451e-04 - 840ms/epoch - 898us/step\n",
      "Epoch 30/100\n",
      "935/935 - 1s - loss: 2.7950e-04 - 841ms/epoch - 900us/step\n",
      "Epoch 31/100\n",
      "935/935 - 1s - loss: 2.7135e-04 - 835ms/epoch - 893us/step\n",
      "Epoch 32/100\n",
      "935/935 - 1s - loss: 2.7902e-04 - 831ms/epoch - 888us/step\n",
      "Epoch 33/100\n",
      "935/935 - 1s - loss: 2.7965e-04 - 846ms/epoch - 905us/step\n",
      "Epoch 34/100\n",
      "935/935 - 1s - loss: 2.6980e-04 - 834ms/epoch - 892us/step\n",
      "Epoch 35/100\n",
      "935/935 - 1s - loss: 2.7515e-04 - 829ms/epoch - 886us/step\n",
      "Epoch 36/100\n",
      "935/935 - 1s - loss: 2.7592e-04 - 816ms/epoch - 873us/step\n",
      "Epoch 37/100\n",
      "935/935 - 1s - loss: 2.7767e-04 - 834ms/epoch - 892us/step\n",
      "Epoch 38/100\n",
      "935/935 - 1s - loss: 2.7864e-04 - 847ms/epoch - 906us/step\n",
      "Epoch 39/100\n",
      "935/935 - 1s - loss: 2.7349e-04 - 839ms/epoch - 898us/step\n",
      "Epoch 40/100\n",
      "935/935 - 1s - loss: 2.7256e-04 - 832ms/epoch - 890us/step\n",
      "Epoch 41/100\n",
      "935/935 - 1s - loss: 2.7828e-04 - 820ms/epoch - 877us/step\n",
      "Epoch 42/100\n",
      "935/935 - 1s - loss: 2.7526e-04 - 844ms/epoch - 903us/step\n",
      "Epoch 43/100\n",
      "935/935 - 1s - loss: 2.8145e-04 - 828ms/epoch - 885us/step\n",
      "Epoch 44/100\n",
      "935/935 - 1s - loss: 2.7601e-04 - 832ms/epoch - 889us/step\n",
      "Epoch 45/100\n",
      "935/935 - 1s - loss: 2.7867e-04 - 843ms/epoch - 902us/step\n",
      "Epoch 46/100\n",
      "935/935 - 1s - loss: 2.7599e-04 - 832ms/epoch - 889us/step\n",
      "Epoch 47/100\n",
      "935/935 - 1s - loss: 2.7836e-04 - 832ms/epoch - 890us/step\n",
      "Epoch 48/100\n",
      "935/935 - 1s - loss: 2.7209e-04 - 837ms/epoch - 895us/step\n",
      "Epoch 49/100\n",
      "935/935 - 1s - loss: 2.7410e-04 - 828ms/epoch - 885us/step\n",
      "Epoch 50/100\n",
      "935/935 - 1s - loss: 2.7290e-04 - 820ms/epoch - 877us/step\n",
      "Epoch 51/100\n",
      "935/935 - 1s - loss: 2.8296e-04 - 831ms/epoch - 888us/step\n",
      "Epoch 52/100\n",
      "935/935 - 1s - loss: 2.7348e-04 - 855ms/epoch - 915us/step\n",
      "Epoch 53/100\n",
      "935/935 - 1s - loss: 2.8006e-04 - 844ms/epoch - 903us/step\n",
      "Epoch 54/100\n",
      "935/935 - 1s - loss: 2.7950e-04 - 908ms/epoch - 971us/step\n",
      "Epoch 55/100\n",
      "935/935 - 1s - loss: 2.7589e-04 - 949ms/epoch - 1ms/step\n",
      "Epoch 56/100\n",
      "935/935 - 1s - loss: 2.7524e-04 - 927ms/epoch - 992us/step\n",
      "Epoch 57/100\n",
      "935/935 - 1s - loss: 2.6871e-04 - 840ms/epoch - 899us/step\n",
      "Epoch 58/100\n",
      "935/935 - 1s - loss: 2.7190e-04 - 822ms/epoch - 879us/step\n",
      "Epoch 59/100\n",
      "935/935 - 1s - loss: 2.7942e-04 - 934ms/epoch - 999us/step\n",
      "Epoch 60/100\n",
      "935/935 - 1s - loss: 2.8104e-04 - 967ms/epoch - 1ms/step\n",
      "Epoch 61/100\n",
      "935/935 - 1s - loss: 2.6820e-04 - 936ms/epoch - 1ms/step\n",
      "Epoch 62/100\n",
      "935/935 - 1s - loss: 2.8259e-04 - 905ms/epoch - 968us/step\n",
      "Epoch 63/100\n",
      "935/935 - 1s - loss: 2.7545e-04 - 861ms/epoch - 921us/step\n",
      "Epoch 64/100\n",
      "935/935 - 1s - loss: 2.8186e-04 - 846ms/epoch - 905us/step\n",
      "Epoch 65/100\n",
      "935/935 - 1s - loss: 2.6866e-04 - 874ms/epoch - 934us/step\n",
      "Epoch 66/100\n",
      "935/935 - 1s - loss: 2.8022e-04 - 833ms/epoch - 891us/step\n",
      "Epoch 67/100\n",
      "935/935 - 1s - loss: 2.7601e-04 - 860ms/epoch - 919us/step\n",
      "Epoch 68/100\n",
      "935/935 - 1s - loss: 2.7308e-04 - 842ms/epoch - 901us/step\n",
      "Epoch 69/100\n",
      "935/935 - 1s - loss: 2.7645e-04 - 843ms/epoch - 901us/step\n",
      "Epoch 70/100\n",
      "935/935 - 1s - loss: 2.9353e-04 - 845ms/epoch - 904us/step\n",
      "Epoch 71/100\n",
      "935/935 - 1s - loss: 2.7008e-04 - 837ms/epoch - 895us/step\n",
      "Epoch 72/100\n",
      "935/935 - 1s - loss: 2.8385e-04 - 875ms/epoch - 936us/step\n",
      "Epoch 73/100\n",
      "935/935 - 1s - loss: 2.6898e-04 - 825ms/epoch - 883us/step\n",
      "Epoch 74/100\n",
      "935/935 - 1s - loss: 2.7597e-04 - 823ms/epoch - 881us/step\n",
      "Epoch 75/100\n",
      "935/935 - 1s - loss: 2.7703e-04 - 822ms/epoch - 879us/step\n",
      "Epoch 76/100\n",
      "935/935 - 1s - loss: 2.8273e-04 - 820ms/epoch - 877us/step\n",
      "Epoch 77/100\n",
      "935/935 - 1s - loss: 2.7342e-04 - 826ms/epoch - 884us/step\n",
      "Epoch 78/100\n",
      "935/935 - 1s - loss: 2.7800e-04 - 835ms/epoch - 893us/step\n",
      "Epoch 79/100\n",
      "935/935 - 1s - loss: 2.7366e-04 - 828ms/epoch - 886us/step\n",
      "Epoch 80/100\n",
      "935/935 - 1s - loss: 2.7090e-04 - 827ms/epoch - 885us/step\n",
      "Epoch 81/100\n",
      "935/935 - 1s - loss: 2.7302e-04 - 832ms/epoch - 889us/step\n",
      "Epoch 82/100\n",
      "935/935 - 1s - loss: 2.7369e-04 - 829ms/epoch - 887us/step\n",
      "Epoch 83/100\n",
      "935/935 - 1s - loss: 2.8095e-04 - 831ms/epoch - 889us/step\n",
      "Epoch 84/100\n",
      "935/935 - 1s - loss: 2.8761e-04 - 828ms/epoch - 885us/step\n",
      "Epoch 85/100\n",
      "935/935 - 1s - loss: 2.7535e-04 - 828ms/epoch - 885us/step\n",
      "Epoch 86/100\n",
      "935/935 - 1s - loss: 2.7946e-04 - 832ms/epoch - 890us/step\n",
      "Epoch 87/100\n",
      "935/935 - 1s - loss: 2.7408e-04 - 822ms/epoch - 879us/step\n",
      "Epoch 88/100\n",
      "935/935 - 1s - loss: 2.7200e-04 - 825ms/epoch - 883us/step\n",
      "Epoch 89/100\n",
      "935/935 - 1s - loss: 2.7544e-04 - 827ms/epoch - 885us/step\n",
      "Epoch 90/100\n",
      "935/935 - 1s - loss: 2.7292e-04 - 837ms/epoch - 895us/step\n",
      "Epoch 91/100\n",
      "935/935 - 1s - loss: 2.7418e-04 - 847ms/epoch - 906us/step\n",
      "Epoch 92/100\n",
      "935/935 - 1s - loss: 2.8063e-04 - 840ms/epoch - 898us/step\n",
      "Epoch 93/100\n",
      "935/935 - 1s - loss: 2.7969e-04 - 850ms/epoch - 909us/step\n",
      "Epoch 94/100\n",
      "935/935 - 1s - loss: 2.7561e-04 - 832ms/epoch - 890us/step\n",
      "Epoch 95/100\n",
      "935/935 - 1s - loss: 2.7093e-04 - 853ms/epoch - 913us/step\n",
      "Epoch 96/100\n",
      "935/935 - 1s - loss: 2.6826e-04 - 833ms/epoch - 891us/step\n",
      "Epoch 97/100\n",
      "935/935 - 1s - loss: 2.7207e-04 - 846ms/epoch - 905us/step\n",
      "Epoch 98/100\n",
      "935/935 - 1s - loss: 2.7320e-04 - 847ms/epoch - 905us/step\n",
      "Epoch 99/100\n",
      "935/935 - 1s - loss: 2.8226e-04 - 813ms/epoch - 870us/step\n",
      "Epoch 100/100\n",
      "935/935 - 1s - loss: 2.7878e-04 - 820ms/epoch - 877us/step\n"
     ]
    },
    {
     "data": {
      "text/plain": [
       "<keras.callbacks.History at 0x26aeedbf3a0>"
      ]
     },
     "execution_count": 22,
     "metadata": {},
     "output_type": "execute_result"
    }
   ],
   "source": [
    "# create and fit the LSTM network\n",
    "model = Sequential()\n",
    "model.add(LSTM(4, input_shape=(1, look_back)))\n",
    "model.add(Dense(1))\n",
    "model.compile(loss='mean_squared_error', optimizer='adam')\n",
    "model.fit(trainX, trainY, epochs=100, batch_size=1, verbose=2)"
   ]
  },
  {
   "cell_type": "code",
   "execution_count": 23,
   "id": "50f47a1b",
   "metadata": {},
   "outputs": [
    {
     "name": "stdout",
     "output_type": "stream",
     "text": [
      "30/30 [==============================] - 0s 659us/step\n",
      "3/3 [==============================] - 0s 2ms/step\n",
      "Train Score: 0.00 RMSE\n",
      "Test Score: 0.01 RMSE\n"
     ]
    }
   ],
   "source": [
    "# make predictions\n",
    "trainPredict = model.predict(trainX)\n",
    "testPredict = model.predict(testX)\n",
    "# invert predictions\n",
    "trainPredict = scaler.inverse_transform(trainPredict)\n",
    "trainY = scaler.inverse_transform([trainY])\n",
    "testPredict = scaler.inverse_transform(testPredict)\n",
    "testY = scaler.inverse_transform([testY])\n",
    "# calculate root mean squared error\n",
    "trainScore = np.sqrt(mean_squared_error(trainY[0], trainPredict[:,0]))\n",
    "print('Train Score: %.2f RMSE' % (trainScore))\n",
    "testScore = np.sqrt(mean_squared_error(testY[0], testPredict[:,0]))\n",
    "print('Test Score: %.2f RMSE' % (testScore))"
   ]
  },
  {
   "cell_type": "code",
   "execution_count": 24,
   "id": "4bfc7dfa",
   "metadata": {},
   "outputs": [
    {
     "data": {
      "image/png": "[encoded data removed]",
      "text/plain": [
       "<Figure size 432x288 with 1 Axes>"
      ]
     },
     "metadata": {
      "needs_background": "light"
     },
     "output_type": "display_data"
    },
    {
     "name": "stdout",
     "output_type": "stream",
     "text": [
      "MSE: 3.260754059912989e-05\n"
     ]
    }
   ],
   "source": [
    "# shift train predictions for plotting\n",
    "trainPredictPlot = np.empty_like(dataset)\n",
    "trainPredictPlot[:, :] = np.nan\n",
    "trainPredictPlot[look_back:len(trainPredict)+look_back, :] = trainPredict\n",
    "# shift test predictions for plotting\n",
    "testPredictPlot = np.empty_like(dataset)\n",
    "testPredictPlot[:, :] = np.nan\n",
    "testPredictPlot[len(trainPredict)+(look_back*2)+1:len(dataset)-1, :] = testPredict\n",
    "# plot baseline and predictions\n",
    "plt.plot(scaler.inverse_transform(dataset)+0.2)\n",
    "#plt.plot(trainPredictPlot,color='b')\n",
    "plt.plot(testPredictPlot+0.2,color='r')\n",
    "plt.xlabel('Cycles')\n",
    "plt.ylabel('SoH')\n",
    "plt.legend(['True Values','Predicted'])\n",
    "plt.show()\n",
    "print('MSE:',mean_squared_error(testY.T, testPredict))"
   ]
  },
  {
   "cell_type": "code",
   "execution_count": 25,
   "id": "7d986e2e",
   "metadata": {},
   "outputs": [
    {
     "data": {
      "text/plain": [
       "69"
      ]
     },
     "execution_count": 25,
     "metadata": {},
     "output_type": "execute_result"
    }
   ],
   "source": [
    "len(testY.T)"
   ]
  },
  {
   "cell_type": "code",
   "execution_count": 26,
   "id": "874c7159",
   "metadata": {},
   "outputs": [
    {
     "data": {
      "text/plain": [
       "69"
      ]
     },
     "execution_count": 26,
     "metadata": {},
     "output_type": "execute_result"
    }
   ],
   "source": [
    "len(testPredict)"
   ]
  },
  {
   "cell_type": "code",
   "execution_count": 27,
   "id": "69371b79",
   "metadata": {},
   "outputs": [
    {
     "data": {
      "text/plain": [
       "Text(0, 0.5, 'SoH')"
      ]
     },
     "execution_count": 27,
     "metadata": {},
     "output_type": "execute_result"
    },
    {
     "data": {
      "image/png": "[encoded data removed]",
      "text/plain": [
       "<Figure size 432x288 with 1 Axes>"
      ]
     },
     "metadata": {
      "needs_background": "light"
     },
     "output_type": "display_data"
    }
   ],
   "source": [
    "plt.plot(testY.T+0.2)\n",
    "plt.plot(testPredict+0.2,color='r')\n",
    "plt.legend(['True Values','Predicted'])\n",
    "plt.xlabel('Cycles')\n",
    "plt.ylabel('SoH')"
   ]
  },
  {
   "cell_type": "code",
   "execution_count": 28,
   "id": "ca131e50",
   "metadata": {},
   "outputs": [
    {
     "name": "stdout",
     "output_type": "stream",
     "text": [
      "RMSEP: [0.00862394]\n",
      "rmse2: 0.0057103012704348526\n",
      "mse2: 3.260754059912989e-05\n",
      "mae2: 0.0051126073457054624\n"
     ]
    }
   ],
   "source": [
    "rmse2 = np.sqrt(mean_squared_error(testY[0], testPredict[:,0]))\n",
    "mse2 = mean_squared_error(testY.T, testPredict)\n",
    "mae2 = mean_absolute_error(testY.T, testPredict)\n",
    "rmsep2 = np.sqrt(np.mean(np.square(((testY.T - testPredict) / testY.T)), axis=0))\n",
    "print('RMSEP:', rmsep2)\n",
    "print('rmse2:', rmse2)\n",
    "print('mse2:', mse2)\n",
    "print('mae2:', mae2)"
   ]
  },
  {
   "cell_type": "markdown",
   "id": "566e2e0c",
   "metadata": {},
   "source": [
    "## For 80 cycles"
   ]
  },
  {
   "cell_type": "code",
   "execution_count": 29,
   "id": "d16753ae",
   "metadata": {},
   "outputs": [
    {
     "name": "stdout",
     "output_type": "stream",
     "text": [
      "927 81\n"
     ]
    }
   ],
   "source": [
    "# split into train and test sets\n",
    "train_size = int(len(dataset) * 0.92)\n",
    "test_size = len(dataset) - train_size\n",
    "train, test = dataset[0:train_size,:], dataset[train_size:len(dataset),:]\n",
    "print(len(train), len(test))"
   ]
  },
  {
   "cell_type": "code",
   "execution_count": 30,
   "id": "3cbb070c",
   "metadata": {},
   "outputs": [],
   "source": [
    "# reshape into X=t and Y=t+1\n",
    "look_back = 1\n",
    "trainX, trainY = create_dataset(train, look_back)\n",
    "testX, testY = create_dataset(test, look_back)"
   ]
  },
  {
   "cell_type": "code",
   "execution_count": 31,
   "id": "7f333fdf",
   "metadata": {},
   "outputs": [],
   "source": [
    "# reshape input to be [samples, time steps, features]\n",
    "trainX = np.reshape(trainX, (trainX.shape[0], 1, trainX.shape[1]))\n",
    "testX = np.reshape(testX, (testX.shape[0], 1, testX.shape[1]))"
   ]
  },
  {
   "cell_type": "code",
   "execution_count": 32,
   "id": "fd8470f7",
   "metadata": {
    "scrolled": true
   },
   "outputs": [
    {
     "name": "stdout",
     "output_type": "stream",
     "text": [
      "Epoch 1/100\n",
      "925/925 - 2s - loss: 0.0962 - 2s/epoch - 2ms/step\n",
      "Epoch 2/100\n",
      "925/925 - 1s - loss: 0.0085 - 862ms/epoch - 932us/step\n",
      "Epoch 3/100\n",
      "925/925 - 1s - loss: 0.0044 - 846ms/epoch - 914us/step\n",
      "Epoch 4/100\n",
      "925/925 - 1s - loss: 0.0015 - 839ms/epoch - 907us/step\n",
      "Epoch 5/100\n",
      "925/925 - 1s - loss: 4.2623e-04 - 835ms/epoch - 903us/step\n",
      "Epoch 6/100\n",
      "925/925 - 1s - loss: 2.6595e-04 - 817ms/epoch - 884us/step\n",
      "Epoch 7/100\n",
      "925/925 - 1s - loss: 2.6931e-04 - 825ms/epoch - 891us/step\n",
      "Epoch 8/100\n",
      "925/925 - 1s - loss: 2.6961e-04 - 832ms/epoch - 899us/step\n",
      "Epoch 9/100\n",
      "925/925 - 1s - loss: 2.7547e-04 - 846ms/epoch - 915us/step\n",
      "Epoch 10/100\n",
      "925/925 - 1s - loss: 2.8087e-04 - 831ms/epoch - 898us/step\n",
      "Epoch 11/100\n",
      "925/925 - 1s - loss: 2.8344e-04 - 828ms/epoch - 895us/step\n",
      "Epoch 12/100\n",
      "925/925 - 1s - loss: 2.7590e-04 - 831ms/epoch - 898us/step\n",
      "Epoch 13/100\n",
      "925/925 - 1s - loss: 2.7380e-04 - 829ms/epoch - 897us/step\n",
      "Epoch 14/100\n",
      "925/925 - 1s - loss: 2.7123e-04 - 824ms/epoch - 891us/step\n",
      "Epoch 15/100\n",
      "925/925 - 1s - loss: 2.7440e-04 - 865ms/epoch - 935us/step\n",
      "Epoch 16/100\n",
      "925/925 - 1s - loss: 2.7887e-04 - 836ms/epoch - 904us/step\n",
      "Epoch 17/100\n",
      "925/925 - 1s - loss: 2.7832e-04 - 839ms/epoch - 907us/step\n",
      "Epoch 18/100\n",
      "925/925 - 1s - loss: 2.8011e-04 - 831ms/epoch - 898us/step\n",
      "Epoch 19/100\n",
      "925/925 - 1s - loss: 2.7338e-04 - 828ms/epoch - 895us/step\n",
      "Epoch 20/100\n",
      "925/925 - 1s - loss: 2.7067e-04 - 821ms/epoch - 887us/step\n",
      "Epoch 21/100\n",
      "925/925 - 1s - loss: 2.7081e-04 - 819ms/epoch - 885us/step\n",
      "Epoch 22/100\n",
      "925/925 - 1s - loss: 2.7439e-04 - 822ms/epoch - 889us/step\n",
      "Epoch 23/100\n",
      "925/925 - 1s - loss: 2.7650e-04 - 840ms/epoch - 909us/step\n",
      "Epoch 24/100\n",
      "925/925 - 1s - loss: 2.7497e-04 - 859ms/epoch - 929us/step\n",
      "Epoch 25/100\n",
      "925/925 - 1s - loss: 2.7497e-04 - 870ms/epoch - 940us/step\n",
      "Epoch 26/100\n",
      "925/925 - 1s - loss: 2.7647e-04 - 816ms/epoch - 882us/step\n",
      "Epoch 27/100\n",
      "925/925 - 1s - loss: 2.7472e-04 - 811ms/epoch - 877us/step\n",
      "Epoch 28/100\n",
      "925/925 - 1s - loss: 2.7339e-04 - 815ms/epoch - 881us/step\n",
      "Epoch 29/100\n",
      "925/925 - 1s - loss: 2.7298e-04 - 818ms/epoch - 885us/step\n",
      "Epoch 30/100\n",
      "925/925 - 1s - loss: 2.7551e-04 - 821ms/epoch - 888us/step\n",
      "Epoch 31/100\n",
      "925/925 - 1s - loss: 2.7133e-04 - 826ms/epoch - 893us/step\n",
      "Epoch 32/100\n",
      "925/925 - 1s - loss: 2.6814e-04 - 820ms/epoch - 886us/step\n",
      "Epoch 33/100\n",
      "925/925 - 1s - loss: 2.6362e-04 - 830ms/epoch - 897us/step\n",
      "Epoch 34/100\n",
      "925/925 - 1s - loss: 2.7961e-04 - 818ms/epoch - 884us/step\n",
      "Epoch 35/100\n",
      "925/925 - 1s - loss: 2.7752e-04 - 822ms/epoch - 888us/step\n",
      "Epoch 36/100\n",
      "925/925 - 1s - loss: 2.7567e-04 - 833ms/epoch - 901us/step\n",
      "Epoch 37/100\n",
      "925/925 - 1s - loss: 2.7795e-04 - 827ms/epoch - 894us/step\n",
      "Epoch 38/100\n",
      "925/925 - 1s - loss: 2.7607e-04 - 819ms/epoch - 885us/step\n",
      "Epoch 39/100\n",
      "925/925 - 1s - loss: 2.7777e-04 - 811ms/epoch - 876us/step\n",
      "Epoch 40/100\n",
      "925/925 - 1s - loss: 2.6953e-04 - 820ms/epoch - 887us/step\n",
      "Epoch 41/100\n",
      "925/925 - 1s - loss: 2.7658e-04 - 823ms/epoch - 890us/step\n",
      "Epoch 42/100\n",
      "925/925 - 1s - loss: 2.7096e-04 - 823ms/epoch - 890us/step\n",
      "Epoch 43/100\n",
      "925/925 - 1s - loss: 2.7835e-04 - 808ms/epoch - 873us/step\n",
      "Epoch 44/100\n",
      "925/925 - 1s - loss: 2.7682e-04 - 826ms/epoch - 893us/step\n",
      "Epoch 45/100\n",
      "925/925 - 1s - loss: 2.6674e-04 - 807ms/epoch - 872us/step\n",
      "Epoch 46/100\n",
      "925/925 - 1s - loss: 2.7829e-04 - 826ms/epoch - 893us/step\n",
      "Epoch 47/100\n",
      "925/925 - 1s - loss: 2.7688e-04 - 837ms/epoch - 905us/step\n",
      "Epoch 48/100\n",
      "925/925 - 1s - loss: 2.7436e-04 - 830ms/epoch - 898us/step\n",
      "Epoch 49/100\n",
      "925/925 - 1s - loss: 2.6941e-04 - 837ms/epoch - 905us/step\n",
      "Epoch 50/100\n",
      "925/925 - 1s - loss: 2.7293e-04 - 830ms/epoch - 897us/step\n",
      "Epoch 51/100\n",
      "925/925 - 1s - loss: 2.7491e-04 - 848ms/epoch - 917us/step\n",
      "Epoch 52/100\n",
      "925/925 - 1s - loss: 2.7687e-04 - 840ms/epoch - 908us/step\n",
      "Epoch 53/100\n",
      "925/925 - 1s - loss: 2.7827e-04 - 853ms/epoch - 922us/step\n",
      "Epoch 54/100\n",
      "925/925 - 1s - loss: 2.7203e-04 - 816ms/epoch - 882us/step\n",
      "Epoch 55/100\n",
      "925/925 - 1s - loss: 2.6997e-04 - 819ms/epoch - 886us/step\n",
      "Epoch 56/100\n",
      "925/925 - 1s - loss: 2.7443e-04 - 817ms/epoch - 883us/step\n",
      "Epoch 57/100\n",
      "925/925 - 1s - loss: 2.6980e-04 - 821ms/epoch - 888us/step\n",
      "Epoch 58/100\n",
      "925/925 - 1s - loss: 2.7919e-04 - 850ms/epoch - 918us/step\n",
      "Epoch 59/100\n",
      "925/925 - 1s - loss: 2.8489e-04 - 881ms/epoch - 952us/step\n",
      "Epoch 60/100\n",
      "925/925 - 1s - loss: 2.7629e-04 - 844ms/epoch - 912us/step\n",
      "Epoch 61/100\n",
      "925/925 - 1s - loss: 2.7143e-04 - 818ms/epoch - 885us/step\n",
      "Epoch 62/100\n",
      "925/925 - 1s - loss: 2.6975e-04 - 835ms/epoch - 902us/step\n",
      "Epoch 63/100\n",
      "925/925 - 1s - loss: 2.6876e-04 - 860ms/epoch - 929us/step\n",
      "Epoch 64/100\n",
      "925/925 - 1s - loss: 2.7398e-04 - 853ms/epoch - 922us/step\n",
      "Epoch 65/100\n",
      "925/925 - 1s - loss: 2.7770e-04 - 814ms/epoch - 881us/step\n",
      "Epoch 66/100\n",
      "925/925 - 1s - loss: 2.8119e-04 - 821ms/epoch - 887us/step\n",
      "Epoch 67/100\n",
      "925/925 - 1s - loss: 2.7457e-04 - 845ms/epoch - 913us/step\n",
      "Epoch 68/100\n",
      "925/925 - 1s - loss: 2.7126e-04 - 833ms/epoch - 900us/step\n",
      "Epoch 69/100\n",
      "925/925 - 1s - loss: 2.6839e-04 - 829ms/epoch - 896us/step\n",
      "Epoch 70/100\n",
      "925/925 - 1s - loss: 2.8244e-04 - 819ms/epoch - 885us/step\n",
      "Epoch 71/100\n",
      "925/925 - 1s - loss: 2.6522e-04 - 812ms/epoch - 877us/step\n",
      "Epoch 72/100\n",
      "925/925 - 1s - loss: 2.8316e-04 - 823ms/epoch - 890us/step\n",
      "Epoch 73/100\n",
      "925/925 - 1s - loss: 2.6840e-04 - 805ms/epoch - 870us/step\n",
      "Epoch 74/100\n",
      "925/925 - 1s - loss: 2.7285e-04 - 818ms/epoch - 884us/step\n",
      "Epoch 75/100\n",
      "925/925 - 1s - loss: 2.7295e-04 - 824ms/epoch - 891us/step\n",
      "Epoch 76/100\n",
      "925/925 - 1s - loss: 2.7124e-04 - 823ms/epoch - 890us/step\n",
      "Epoch 77/100\n",
      "925/925 - 1s - loss: 2.7389e-04 - 838ms/epoch - 906us/step\n",
      "Epoch 78/100\n",
      "925/925 - 1s - loss: 2.8333e-04 - 819ms/epoch - 886us/step\n",
      "Epoch 79/100\n",
      "925/925 - 1s - loss: 2.7371e-04 - 835ms/epoch - 902us/step\n",
      "Epoch 80/100\n",
      "925/925 - 1s - loss: 2.7218e-04 - 819ms/epoch - 885us/step\n",
      "Epoch 81/100\n",
      "925/925 - 1s - loss: 2.7279e-04 - 807ms/epoch - 873us/step\n",
      "Epoch 82/100\n",
      "925/925 - 1s - loss: 2.7377e-04 - 820ms/epoch - 886us/step\n",
      "Epoch 83/100\n",
      "925/925 - 1s - loss: 2.6827e-04 - 812ms/epoch - 878us/step\n",
      "Epoch 84/100\n",
      "925/925 - 1s - loss: 2.7859e-04 - 812ms/epoch - 877us/step\n",
      "Epoch 85/100\n",
      "925/925 - 1s - loss: 2.6980e-04 - 814ms/epoch - 880us/step\n",
      "Epoch 86/100\n",
      "925/925 - 1s - loss: 2.6927e-04 - 826ms/epoch - 893us/step\n",
      "Epoch 87/100\n",
      "925/925 - 1s - loss: 2.7405e-04 - 816ms/epoch - 882us/step\n",
      "Epoch 88/100\n",
      "925/925 - 1s - loss: 2.7170e-04 - 818ms/epoch - 884us/step\n",
      "Epoch 89/100\n",
      "925/925 - 1s - loss: 2.7114e-04 - 832ms/epoch - 899us/step\n",
      "Epoch 90/100\n",
      "925/925 - 1s - loss: 2.6924e-04 - 817ms/epoch - 883us/step\n",
      "Epoch 91/100\n",
      "925/925 - 1s - loss: 2.7051e-04 - 817ms/epoch - 883us/step\n",
      "Epoch 92/100\n",
      "925/925 - 1s - loss: 2.6726e-04 - 821ms/epoch - 888us/step\n",
      "Epoch 93/100\n",
      "925/925 - 1s - loss: 2.7968e-04 - 831ms/epoch - 898us/step\n",
      "Epoch 94/100\n",
      "925/925 - 1s - loss: 2.6668e-04 - 821ms/epoch - 887us/step\n",
      "Epoch 95/100\n",
      "925/925 - 1s - loss: 2.7335e-04 - 848ms/epoch - 917us/step\n",
      "Epoch 96/100\n",
      "925/925 - 1s - loss: 2.7279e-04 - 835ms/epoch - 903us/step\n",
      "Epoch 97/100\n",
      "925/925 - 1s - loss: 2.7659e-04 - 827ms/epoch - 894us/step\n",
      "Epoch 98/100\n",
      "925/925 - 1s - loss: 2.7012e-04 - 816ms/epoch - 883us/step\n",
      "Epoch 99/100\n",
      "925/925 - 1s - loss: 2.7264e-04 - 860ms/epoch - 930us/step\n",
      "Epoch 100/100\n",
      "925/925 - 1s - loss: 2.7685e-04 - 845ms/epoch - 913us/step\n"
     ]
    },
    {
     "data": {
      "text/plain": [
       "<keras.callbacks.History at 0x26af1290880>"
      ]
     },
     "execution_count": 32,
     "metadata": {},
     "output_type": "execute_result"
    }
   ],
   "source": [
    "# create and fit the LSTM network\n",
    "model = Sequential()\n",
    "model.add(LSTM(4, input_shape=(1, look_back)))\n",
    "model.add(Dense(1))\n",
    "model.compile(loss='mean_squared_error', optimizer='adam')\n",
    "model.fit(trainX, trainY, epochs=100, batch_size=1, verbose=2)"
   ]
  },
  {
   "cell_type": "code",
   "execution_count": 33,
   "id": "225b6c37",
   "metadata": {},
   "outputs": [
    {
     "name": "stdout",
     "output_type": "stream",
     "text": [
      "29/29 [==============================] - 0s 612us/step\n",
      "3/3 [==============================] - 0s 3ms/step\n",
      "Train Score: 0.00 RMSE\n",
      "Test Score: 0.01 RMSE\n"
     ]
    }
   ],
   "source": [
    "# make predictions\n",
    "trainPredict = model.predict(trainX)\n",
    "testPredict = model.predict(testX)\n",
    "# invert predictions\n",
    "trainPredict = scaler.inverse_transform(trainPredict)\n",
    "trainY = scaler.inverse_transform([trainY])\n",
    "testPredict = scaler.inverse_transform(testPredict)\n",
    "testY = scaler.inverse_transform([testY])\n",
    "# calculate root mean squared error\n",
    "trainScore = np.sqrt(mean_squared_error(trainY[0], trainPredict[:,0]))\n",
    "print('Train Score: %.2f RMSE' % (trainScore))\n",
    "testScore = np.sqrt(mean_squared_error(testY[0], testPredict[:,0]))\n",
    "print('Test Score: %.2f RMSE' % (testScore))"
   ]
  },
  {
   "cell_type": "code",
   "execution_count": 34,
   "id": "13a7fb3d",
   "metadata": {},
   "outputs": [
    {
     "data": {
      "image/png": "[encoded data removed]",
      "text/plain": [
       "<Figure size 432x288 with 1 Axes>"
      ]
     },
     "metadata": {
      "needs_background": "light"
     },
     "output_type": "display_data"
    },
    {
     "name": "stdout",
     "output_type": "stream",
     "text": [
      "MSE: 4.1533145749256614e-05\n"
     ]
    }
   ],
   "source": [
    "# shift train predictions for plotting\n",
    "trainPredictPlot = np.empty_like(dataset)\n",
    "trainPredictPlot[:, :] = np.nan\n",
    "trainPredictPlot[look_back:len(trainPredict)+look_back, :] = trainPredict\n",
    "# shift test predictions for plotting\n",
    "testPredictPlot = np.empty_like(dataset)\n",
    "testPredictPlot[:, :] = np.nan\n",
    "testPredictPlot[len(trainPredict)+(look_back*2)+1:len(dataset)-1, :] = testPredict\n",
    "# plot baseline and predictions\n",
    "plt.plot(scaler.inverse_transform(dataset)+0.2)\n",
    "#plt.plot(trainPredictPlot,color='b')\n",
    "plt.plot(testPredictPlot+0.2,color='r')\n",
    "plt.xlabel('Cycles')\n",
    "plt.ylabel('SoH')\n",
    "plt.legend(['True Values','Predicted'])\n",
    "plt.show()\n",
    "print('MSE:',mean_squared_error(testY.T, testPredict))"
   ]
  },
  {
   "cell_type": "code",
   "execution_count": 35,
   "id": "696fc19a",
   "metadata": {},
   "outputs": [
    {
     "data": {
      "text/plain": [
       "Text(0, 0.5, 'SoH')"
      ]
     },
     "execution_count": 35,
     "metadata": {},
     "output_type": "execute_result"
    },
    {
     "data": {
      "image/png": "[encoded data removed]",
      "text/plain": [
       "<Figure size 432x288 with 1 Axes>"
      ]
     },
     "metadata": {
      "needs_background": "light"
     },
     "output_type": "display_data"
    }
   ],
   "source": [
    "plt.plot(testY.T+0.2)\n",
    "plt.plot(testPredict+0.2,color='r')\n",
    "plt.legend(['True Values','Predicted'])\n",
    "plt.xlabel('Cycles')\n",
    "plt.ylabel('SoH')"
   ]
  },
  {
   "cell_type": "code",
   "execution_count": 36,
   "id": "e87793d0",
   "metadata": {},
   "outputs": [
    {
     "name": "stdout",
     "output_type": "stream",
     "text": [
      "RMSEP3: [0.00973331]\n",
      "rmse3: 0.0064446214589575865\n",
      "mse3: 4.1533145749256614e-05\n",
      "mae3: 0.005619934950159669\n"
     ]
    }
   ],
   "source": [
    "rmse3 = np.sqrt(mean_squared_error(testY[0], testPredict[:,0]))\n",
    "mse3 = mean_squared_error(testY.T, testPredict)\n",
    "mae3 = mean_absolute_error(testY.T, testPredict)\n",
    "rmsep3 = np.sqrt(np.mean(np.square(((testY.T - testPredict) / testY.T)), axis=0))\n",
    "print('RMSEP3:', rmsep3)\n",
    "print('rmse3:', rmse3)\n",
    "print('mse3:', mse3)\n",
    "print('mae3:', mae3)"
   ]
  },
  {
   "cell_type": "markdown",
   "id": "2a5903ea",
   "metadata": {},
   "source": [
    "## For 90 cycles"
   ]
  },
  {
   "cell_type": "code",
   "execution_count": 37,
   "id": "ee767c7c",
   "metadata": {},
   "outputs": [
    {
     "name": "stdout",
     "output_type": "stream",
     "text": [
      "917 91\n"
     ]
    }
   ],
   "source": [
    "# split into train and test sets\n",
    "train_size = int(len(dataset) * 0.91)\n",
    "test_size = len(dataset) - train_size\n",
    "train, test = dataset[0:train_size,:], dataset[train_size:len(dataset),:]\n",
    "print(len(train), len(test))"
   ]
  },
  {
   "cell_type": "code",
   "execution_count": 38,
   "id": "83c1a062",
   "metadata": {},
   "outputs": [],
   "source": [
    "# reshape into X=t and Y=t+1\n",
    "look_back = 1\n",
    "trainX, trainY = create_dataset(train, look_back)\n",
    "testX, testY = create_dataset(test, look_back)"
   ]
  },
  {
   "cell_type": "code",
   "execution_count": 39,
   "id": "99dc123b",
   "metadata": {},
   "outputs": [],
   "source": [
    "# reshape input to be [samples, time steps, features]\n",
    "trainX = np.reshape(trainX, (trainX.shape[0], 1, trainX.shape[1]))\n",
    "testX = np.reshape(testX, (testX.shape[0], 1, testX.shape[1]))"
   ]
  },
  {
   "cell_type": "code",
   "execution_count": 40,
   "id": "ca55128f",
   "metadata": {
    "scrolled": true
   },
   "outputs": [
    {
     "name": "stdout",
     "output_type": "stream",
     "text": [
      "Epoch 1/100\n",
      "915/915 - 2s - loss: 0.1167 - 2s/epoch - 2ms/step\n",
      "Epoch 2/100\n",
      "915/915 - 1s - loss: 0.0109 - 839ms/epoch - 917us/step\n",
      "Epoch 3/100\n",
      "915/915 - 1s - loss: 0.0063 - 906ms/epoch - 990us/step\n",
      "Epoch 4/100\n",
      "915/915 - 1s - loss: 0.0027 - 849ms/epoch - 927us/step\n",
      "Epoch 5/100\n",
      "915/915 - 1s - loss: 8.0810e-04 - 840ms/epoch - 918us/step\n",
      "Epoch 6/100\n",
      "915/915 - 1s - loss: 3.1468e-04 - 851ms/epoch - 930us/step\n",
      "Epoch 7/100\n",
      "915/915 - 1s - loss: 2.7815e-04 - 817ms/epoch - 893us/step\n",
      "Epoch 8/100\n",
      "915/915 - 1s - loss: 2.8242e-04 - 820ms/epoch - 896us/step\n",
      "Epoch 9/100\n",
      "915/915 - 1s - loss: 2.7924e-04 - 817ms/epoch - 892us/step\n",
      "Epoch 10/100\n",
      "915/915 - 1s - loss: 2.8584e-04 - 813ms/epoch - 888us/step\n",
      "Epoch 11/100\n",
      "915/915 - 1s - loss: 2.7295e-04 - 820ms/epoch - 897us/step\n",
      "Epoch 12/100\n",
      "915/915 - 1s - loss: 2.8184e-04 - 809ms/epoch - 884us/step\n",
      "Epoch 13/100\n",
      "915/915 - 1s - loss: 2.7562e-04 - 809ms/epoch - 884us/step\n",
      "Epoch 14/100\n",
      "915/915 - 1s - loss: 2.8003e-04 - 811ms/epoch - 887us/step\n",
      "Epoch 15/100\n",
      "915/915 - 1s - loss: 2.8630e-04 - 817ms/epoch - 893us/step\n",
      "Epoch 16/100\n",
      "915/915 - 1s - loss: 2.7740e-04 - 830ms/epoch - 908us/step\n",
      "Epoch 17/100\n",
      "915/915 - 1s - loss: 2.7970e-04 - 817ms/epoch - 893us/step\n",
      "Epoch 18/100\n",
      "915/915 - 1s - loss: 2.8091e-04 - 807ms/epoch - 881us/step\n",
      "Epoch 19/100\n",
      "915/915 - 1s - loss: 2.7090e-04 - 805ms/epoch - 880us/step\n",
      "Epoch 20/100\n",
      "915/915 - 1s - loss: 2.7331e-04 - 805ms/epoch - 880us/step\n",
      "Epoch 21/100\n",
      "915/915 - 1s - loss: 2.7302e-04 - 806ms/epoch - 881us/step\n",
      "Epoch 22/100\n",
      "915/915 - 1s - loss: 2.7587e-04 - 798ms/epoch - 873us/step\n",
      "Epoch 23/100\n",
      "915/915 - 1s - loss: 2.7160e-04 - 808ms/epoch - 883us/step\n",
      "Epoch 24/100\n",
      "915/915 - 1s - loss: 2.7159e-04 - 801ms/epoch - 876us/step\n",
      "Epoch 25/100\n",
      "915/915 - 1s - loss: 2.7483e-04 - 830ms/epoch - 907us/step\n",
      "Epoch 26/100\n",
      "915/915 - 1s - loss: 2.7855e-04 - 822ms/epoch - 899us/step\n",
      "Epoch 27/100\n",
      "915/915 - 1s - loss: 2.7331e-04 - 818ms/epoch - 895us/step\n",
      "Epoch 28/100\n",
      "915/915 - 1s - loss: 2.8509e-04 - 821ms/epoch - 897us/step\n",
      "Epoch 29/100\n",
      "915/915 - 1s - loss: 2.8543e-04 - 801ms/epoch - 875us/step\n",
      "Epoch 30/100\n",
      "915/915 - 1s - loss: 2.7271e-04 - 815ms/epoch - 890us/step\n",
      "Epoch 31/100\n",
      "915/915 - 1s - loss: 2.7914e-04 - 805ms/epoch - 880us/step\n",
      "Epoch 32/100\n",
      "915/915 - 1s - loss: 2.8256e-04 - 808ms/epoch - 884us/step\n",
      "Epoch 33/100\n",
      "915/915 - 1s - loss: 2.6811e-04 - 815ms/epoch - 890us/step\n",
      "Epoch 34/100\n",
      "915/915 - 1s - loss: 2.7483e-04 - 811ms/epoch - 886us/step\n",
      "Epoch 35/100\n",
      "915/915 - 1s - loss: 2.7852e-04 - 809ms/epoch - 885us/step\n",
      "Epoch 36/100\n",
      "915/915 - 1s - loss: 2.7601e-04 - 809ms/epoch - 884us/step\n",
      "Epoch 37/100\n",
      "915/915 - 1s - loss: 2.6966e-04 - 805ms/epoch - 880us/step\n",
      "Epoch 38/100\n",
      "915/915 - 1s - loss: 2.7444e-04 - 817ms/epoch - 893us/step\n",
      "Epoch 39/100\n",
      "915/915 - 1s - loss: 2.7828e-04 - 816ms/epoch - 891us/step\n",
      "Epoch 40/100\n",
      "915/915 - 1s - loss: 2.7735e-04 - 844ms/epoch - 922us/step\n",
      "Epoch 41/100\n",
      "915/915 - 1s - loss: 2.7962e-04 - 806ms/epoch - 881us/step\n",
      "Epoch 42/100\n",
      "915/915 - 1s - loss: 2.7155e-04 - 823ms/epoch - 899us/step\n",
      "Epoch 43/100\n",
      "915/915 - 1s - loss: 2.7355e-04 - 835ms/epoch - 913us/step\n",
      "Epoch 44/100\n",
      "915/915 - 1s - loss: 2.7412e-04 - 826ms/epoch - 903us/step\n",
      "Epoch 45/100\n",
      "915/915 - 1s - loss: 2.7255e-04 - 833ms/epoch - 910us/step\n",
      "Epoch 46/100\n",
      "915/915 - 1s - loss: 2.7567e-04 - 820ms/epoch - 897us/step\n",
      "Epoch 47/100\n",
      "915/915 - 1s - loss: 2.6864e-04 - 830ms/epoch - 907us/step\n",
      "Epoch 48/100\n",
      "915/915 - 1s - loss: 2.8073e-04 - 824ms/epoch - 900us/step\n",
      "Epoch 49/100\n",
      "915/915 - 1s - loss: 2.7714e-04 - 810ms/epoch - 885us/step\n",
      "Epoch 50/100\n",
      "915/915 - 1s - loss: 2.7306e-04 - 810ms/epoch - 886us/step\n",
      "Epoch 51/100\n",
      "915/915 - 1s - loss: 2.7053e-04 - 841ms/epoch - 919us/step\n",
      "Epoch 52/100\n",
      "915/915 - 1s - loss: 2.7056e-04 - 857ms/epoch - 937us/step\n",
      "Epoch 53/100\n",
      "915/915 - 1s - loss: 2.7292e-04 - 835ms/epoch - 912us/step\n",
      "Epoch 54/100\n",
      "915/915 - 1s - loss: 2.6998e-04 - 858ms/epoch - 938us/step\n",
      "Epoch 55/100\n",
      "915/915 - 1s - loss: 2.6887e-04 - 873ms/epoch - 954us/step\n",
      "Epoch 56/100\n",
      "915/915 - 1s - loss: 2.6991e-04 - 858ms/epoch - 938us/step\n",
      "Epoch 57/100\n",
      "915/915 - 1s - loss: 2.7230e-04 - 836ms/epoch - 914us/step\n",
      "Epoch 58/100\n",
      "915/915 - 1s - loss: 2.7538e-04 - 837ms/epoch - 915us/step\n",
      "Epoch 59/100\n",
      "915/915 - 1s - loss: 2.7084e-04 - 812ms/epoch - 888us/step\n",
      "Epoch 60/100\n",
      "915/915 - 1s - loss: 2.7006e-04 - 805ms/epoch - 880us/step\n",
      "Epoch 61/100\n",
      "915/915 - 1s - loss: 2.6971e-04 - 849ms/epoch - 928us/step\n",
      "Epoch 62/100\n",
      "915/915 - 1s - loss: 2.6875e-04 - 847ms/epoch - 926us/step\n",
      "Epoch 63/100\n",
      "915/915 - 1s - loss: 2.7574e-04 - 837ms/epoch - 914us/step\n",
      "Epoch 64/100\n",
      "915/915 - 1s - loss: 2.7204e-04 - 825ms/epoch - 901us/step\n",
      "Epoch 65/100\n",
      "915/915 - 1s - loss: 2.7156e-04 - 828ms/epoch - 905us/step\n",
      "Epoch 66/100\n",
      "915/915 - 1s - loss: 2.7592e-04 - 822ms/epoch - 898us/step\n",
      "Epoch 67/100\n",
      "915/915 - 1s - loss: 2.6492e-04 - 827ms/epoch - 904us/step\n",
      "Epoch 68/100\n",
      "915/915 - 1s - loss: 2.8178e-04 - 828ms/epoch - 905us/step\n",
      "Epoch 69/100\n",
      "915/915 - 1s - loss: 2.6720e-04 - 844ms/epoch - 922us/step\n",
      "Epoch 70/100\n",
      "915/915 - 1s - loss: 2.6662e-04 - 824ms/epoch - 900us/step\n",
      "Epoch 71/100\n",
      "915/915 - 1s - loss: 2.6514e-04 - 812ms/epoch - 887us/step\n",
      "Epoch 72/100\n",
      "915/915 - 1s - loss: 2.6610e-04 - 843ms/epoch - 921us/step\n",
      "Epoch 73/100\n",
      "915/915 - 1s - loss: 2.6939e-04 - 828ms/epoch - 904us/step\n",
      "Epoch 74/100\n",
      "915/915 - 1s - loss: 2.7572e-04 - 854ms/epoch - 934us/step\n",
      "Epoch 75/100\n",
      "915/915 - 1s - loss: 2.7772e-04 - 840ms/epoch - 918us/step\n",
      "Epoch 76/100\n",
      "915/915 - 1s - loss: 2.7314e-04 - 853ms/epoch - 932us/step\n",
      "Epoch 77/100\n",
      "915/915 - 1s - loss: 2.6739e-04 - 854ms/epoch - 934us/step\n",
      "Epoch 78/100\n",
      "915/915 - 1s - loss: 2.8037e-04 - 853ms/epoch - 933us/step\n",
      "Epoch 79/100\n",
      "915/915 - 1s - loss: 2.7813e-04 - 857ms/epoch - 937us/step\n",
      "Epoch 80/100\n",
      "915/915 - 1s - loss: 2.6994e-04 - 859ms/epoch - 939us/step\n",
      "Epoch 81/100\n",
      "915/915 - 1s - loss: 2.7531e-04 - 848ms/epoch - 927us/step\n",
      "Epoch 82/100\n",
      "915/915 - 1s - loss: 2.7240e-04 - 854ms/epoch - 933us/step\n",
      "Epoch 83/100\n",
      "915/915 - 1s - loss: 2.8108e-04 - 837ms/epoch - 914us/step\n",
      "Epoch 84/100\n",
      "915/915 - 1s - loss: 2.6949e-04 - 863ms/epoch - 943us/step\n",
      "Epoch 85/100\n",
      "915/915 - 1s - loss: 2.6567e-04 - 855ms/epoch - 935us/step\n",
      "Epoch 86/100\n",
      "915/915 - 1s - loss: 2.7143e-04 - 845ms/epoch - 924us/step\n",
      "Epoch 87/100\n",
      "915/915 - 1s - loss: 2.7517e-04 - 841ms/epoch - 919us/step\n",
      "Epoch 88/100\n",
      "915/915 - 1s - loss: 2.7477e-04 - 848ms/epoch - 926us/step\n",
      "Epoch 89/100\n",
      "915/915 - 1s - loss: 2.7364e-04 - 833ms/epoch - 911us/step\n",
      "Epoch 90/100\n",
      "915/915 - 1s - loss: 2.6801e-04 - 847ms/epoch - 926us/step\n",
      "Epoch 91/100\n",
      "915/915 - 1s - loss: 2.6575e-04 - 841ms/epoch - 919us/step\n",
      "Epoch 92/100\n",
      "915/915 - 1s - loss: 2.7232e-04 - 855ms/epoch - 934us/step\n",
      "Epoch 93/100\n",
      "915/915 - 1s - loss: 2.6942e-04 - 833ms/epoch - 910us/step\n",
      "Epoch 94/100\n",
      "915/915 - 1s - loss: 2.7791e-04 - 822ms/epoch - 898us/step\n",
      "Epoch 95/100\n",
      "915/915 - 1s - loss: 2.7278e-04 - 842ms/epoch - 921us/step\n",
      "Epoch 96/100\n",
      "915/915 - 1s - loss: 2.6680e-04 - 831ms/epoch - 909us/step\n",
      "Epoch 97/100\n",
      "915/915 - 1s - loss: 2.6263e-04 - 840ms/epoch - 918us/step\n",
      "Epoch 98/100\n",
      "915/915 - 1s - loss: 2.7504e-04 - 834ms/epoch - 911us/step\n",
      "Epoch 99/100\n",
      "915/915 - 1s - loss: 2.6891e-04 - 827ms/epoch - 904us/step\n",
      "Epoch 100/100\n",
      "915/915 - 1s - loss: 2.7231e-04 - 820ms/epoch - 896us/step\n"
     ]
    },
    {
     "data": {
      "text/plain": [
       "<keras.callbacks.History at 0x26af17a25f0>"
      ]
     },
     "execution_count": 40,
     "metadata": {},
     "output_type": "execute_result"
    }
   ],
   "source": [
    "# create and fit the LSTM network\n",
    "model = Sequential()\n",
    "model.add(LSTM(4, input_shape=(1, look_back)))\n",
    "model.add(Dense(1))\n",
    "model.compile(loss='mean_squared_error', optimizer='adam')\n",
    "model.fit(trainX, trainY, epochs=100, batch_size=1, verbose=2)"
   ]
  },
  {
   "cell_type": "code",
   "execution_count": 41,
   "id": "aa5d3047",
   "metadata": {},
   "outputs": [
    {
     "name": "stdout",
     "output_type": "stream",
     "text": [
      "29/29 [==============================] - 0s 805us/step\n",
      "3/3 [==============================] - 0s 3ms/step\n",
      "Train Score: 0.00 RMSE\n",
      "Test Score: 0.00 RMSE\n"
     ]
    }
   ],
   "source": [
    "# make predictions\n",
    "trainPredict = model.predict(trainX)\n",
    "testPredict = model.predict(testX)\n",
    "# invert predictions\n",
    "trainPredict = scaler.inverse_transform(trainPredict)\n",
    "trainY = scaler.inverse_transform([trainY])\n",
    "testPredict = scaler.inverse_transform(testPredict)\n",
    "testY = scaler.inverse_transform([testY])\n",
    "# calculate root mean squared error\n",
    "trainScore = np.sqrt(mean_squared_error(trainY[0], trainPredict[:,0]))\n",
    "print('Train Score: %.2f RMSE' % (trainScore))\n",
    "testScore = np.sqrt(mean_squared_error(testY[0], testPredict[:,0]))\n",
    "print('Test Score: %.2f RMSE' % (testScore))"
   ]
  },
  {
   "cell_type": "code",
   "execution_count": 42,
   "id": "ae7794b8",
   "metadata": {},
   "outputs": [
    {
     "data": {
      "image/png": "[encoded data removed]",
      "text/plain": [
       "<Figure size 432x288 with 1 Axes>"
      ]
     },
     "metadata": {
      "needs_background": "light"
     },
     "output_type": "display_data"
    },
    {
     "name": "stdout",
     "output_type": "stream",
     "text": [
      "MSE: 1.931154382054661e-05\n"
     ]
    }
   ],
   "source": [
    "# shift train predictions for plotting\n",
    "trainPredictPlot = np.empty_like(dataset)\n",
    "trainPredictPlot[:, :] = np.nan\n",
    "trainPredictPlot[look_back:len(trainPredict)+look_back, :] = trainPredict\n",
    "# shift test predictions for plotting\n",
    "testPredictPlot = np.empty_like(dataset)\n",
    "testPredictPlot[:, :] = np.nan\n",
    "testPredictPlot[len(trainPredict)+(look_back*2)+1:len(dataset)-1, :] = testPredict\n",
    "# plot baseline and predictions\n",
    "plt.plot(scaler.inverse_transform(dataset)+0.2)\n",
    "#plt.plot(trainPredictPlot,color='b')\n",
    "plt.plot(testPredictPlot+0.2,color='r')\n",
    "plt.xlabel('Cycles')\n",
    "plt.ylabel('SoH')\n",
    "plt.legend(['True Values','Predicted'])\n",
    "plt.show()\n",
    "print('MSE:',mean_squared_error(testY.T, testPredict))"
   ]
  },
  {
   "cell_type": "code",
   "execution_count": 43,
   "id": "ed3f69b5",
   "metadata": {},
   "outputs": [
    {
     "data": {
      "text/plain": [
       "Text(0, 0.5, 'SoH')"
      ]
     },
     "execution_count": 43,
     "metadata": {},
     "output_type": "execute_result"
    },
    {
     "data": {
      "image/png": "[encoded data removed]",
      "text/plain": [
       "<Figure size 432x288 with 1 Axes>"
      ]
     },
     "metadata": {
      "needs_background": "light"
     },
     "output_type": "display_data"
    }
   ],
   "source": [
    "plt.plot(testY.T+0.2)\n",
    "plt.plot(testPredict+0.2,color='r')\n",
    "plt.legend(['True Values','Predicted'])\n",
    "plt.xlabel('Cycles')\n",
    "plt.ylabel('SoH')"
   ]
  },
  {
   "cell_type": "code",
   "execution_count": 44,
   "id": "27868b20",
   "metadata": {},
   "outputs": [
    {
     "name": "stdout",
     "output_type": "stream",
     "text": [
      "RMSEP4: [0.00661937]\n",
      "rmse4: 0.004394490166167927\n",
      "mse4: 1.931154382054661e-05\n",
      "mae4: 0.0037742200320339927\n"
     ]
    }
   ],
   "source": [
    "rmse4 = np.sqrt(mean_squared_error(testY[0], testPredict[:,0]))\n",
    "mse4 = mean_squared_error(testY.T, testPredict)\n",
    "mae4 = mean_absolute_error(testY.T, testPredict)\n",
    "rmsep4 = np.sqrt(np.mean(np.square(((testY.T - testPredict) / testY.T)), axis=0))\n",
    "print('RMSEP4:', rmsep4)\n",
    "print('rmse4:', rmse4)\n",
    "print('mse4:', mse4)\n",
    "print('mae4:', mae4)"
   ]
  },
  {
   "cell_type": "markdown",
   "id": "a169ab12",
   "metadata": {},
   "source": [
    "## For 100 cycles"
   ]
  },
  {
   "cell_type": "code",
   "execution_count": 45,
   "id": "e16e6d07",
   "metadata": {},
   "outputs": [
    {
     "name": "stdout",
     "output_type": "stream",
     "text": [
      "907 101\n"
     ]
    }
   ],
   "source": [
    "# split into train and test sets\n",
    "train_size = int(len(dataset) * 0.90)\n",
    "test_size = len(dataset) - train_size\n",
    "train, test = dataset[0:train_size,:], dataset[train_size:len(dataset),:]\n",
    "print(len(train), len(test))"
   ]
  },
  {
   "cell_type": "code",
   "execution_count": 46,
   "id": "1039aac1",
   "metadata": {},
   "outputs": [],
   "source": [
    "# reshape into X=t and Y=t+1\n",
    "look_back = 1\n",
    "trainX, trainY = create_dataset(train, look_back)\n",
    "testX, testY = create_dataset(test, look_back)"
   ]
  },
  {
   "cell_type": "code",
   "execution_count": 47,
   "id": "0541667f",
   "metadata": {},
   "outputs": [],
   "source": [
    "# reshape input to be [samples, time steps, features]\n",
    "trainX = np.reshape(trainX, (trainX.shape[0], 1, trainX.shape[1]))\n",
    "testX = np.reshape(testX, (testX.shape[0], 1, testX.shape[1]))"
   ]
  },
  {
   "cell_type": "code",
   "execution_count": 48,
   "id": "2082c087",
   "metadata": {
    "scrolled": true
   },
   "outputs": [
    {
     "name": "stdout",
     "output_type": "stream",
     "text": [
      "Epoch 1/100\n",
      "905/905 - 2s - loss: 0.0748 - 2s/epoch - 2ms/step\n",
      "Epoch 2/100\n",
      "905/905 - 1s - loss: 0.0054 - 855ms/epoch - 945us/step\n",
      "Epoch 3/100\n",
      "905/905 - 1s - loss: 0.0024 - 817ms/epoch - 903us/step\n",
      "Epoch 4/100\n",
      "905/905 - 1s - loss: 7.4766e-04 - 863ms/epoch - 953us/step\n",
      "Epoch 5/100\n",
      "905/905 - 1s - loss: 3.3599e-04 - 853ms/epoch - 942us/step\n",
      "Epoch 6/100\n",
      "905/905 - 1s - loss: 2.9793e-04 - 827ms/epoch - 914us/step\n",
      "Epoch 7/100\n",
      "905/905 - 1s - loss: 2.9977e-04 - 828ms/epoch - 915us/step\n",
      "Epoch 8/100\n",
      "905/905 - 1s - loss: 3.0074e-04 - 832ms/epoch - 920us/step\n",
      "Epoch 9/100\n",
      "905/905 - 1s - loss: 3.1381e-04 - 850ms/epoch - 939us/step\n",
      "Epoch 10/100\n",
      "905/905 - 1s - loss: 2.9603e-04 - 845ms/epoch - 933us/step\n",
      "Epoch 11/100\n",
      "905/905 - 1s - loss: 3.0110e-04 - 842ms/epoch - 931us/step\n",
      "Epoch 12/100\n",
      "905/905 - 1s - loss: 3.1068e-04 - 837ms/epoch - 925us/step\n",
      "Epoch 13/100\n",
      "905/905 - 1s - loss: 3.0467e-04 - 845ms/epoch - 934us/step\n",
      "Epoch 14/100\n",
      "905/905 - 1s - loss: 2.9791e-04 - 818ms/epoch - 904us/step\n",
      "Epoch 15/100\n",
      "905/905 - 1s - loss: 3.0761e-04 - 801ms/epoch - 885us/step\n",
      "Epoch 16/100\n",
      "905/905 - 1s - loss: 2.9964e-04 - 802ms/epoch - 886us/step\n",
      "Epoch 17/100\n",
      "905/905 - 1s - loss: 3.0666e-04 - 842ms/epoch - 930us/step\n",
      "Epoch 18/100\n",
      "905/905 - 1s - loss: 3.0826e-04 - 835ms/epoch - 923us/step\n",
      "Epoch 19/100\n",
      "905/905 - 1s - loss: 2.9083e-04 - 830ms/epoch - 918us/step\n",
      "Epoch 20/100\n",
      "905/905 - 1s - loss: 2.9071e-04 - 830ms/epoch - 917us/step\n",
      "Epoch 21/100\n",
      "905/905 - 1s - loss: 2.8683e-04 - 802ms/epoch - 886us/step\n",
      "Epoch 22/100\n",
      "905/905 - 1s - loss: 2.9185e-04 - 789ms/epoch - 872us/step\n",
      "Epoch 23/100\n",
      "905/905 - 1s - loss: 2.9189e-04 - 790ms/epoch - 873us/step\n",
      "Epoch 24/100\n",
      "905/905 - 1s - loss: 3.0289e-04 - 794ms/epoch - 877us/step\n",
      "Epoch 25/100\n",
      "905/905 - 1s - loss: 2.8612e-04 - 805ms/epoch - 889us/step\n",
      "Epoch 26/100\n",
      "905/905 - 1s - loss: 2.9767e-04 - 792ms/epoch - 875us/step\n",
      "Epoch 27/100\n",
      "905/905 - 1s - loss: 2.9386e-04 - 804ms/epoch - 888us/step\n",
      "Epoch 28/100\n",
      "905/905 - 1s - loss: 2.9212e-04 - 803ms/epoch - 887us/step\n",
      "Epoch 29/100\n",
      "905/905 - 1s - loss: 2.8050e-04 - 818ms/epoch - 904us/step\n",
      "Epoch 30/100\n",
      "905/905 - 1s - loss: 2.8224e-04 - 804ms/epoch - 888us/step\n",
      "Epoch 31/100\n",
      "905/905 - 1s - loss: 2.8370e-04 - 823ms/epoch - 910us/step\n",
      "Epoch 32/100\n",
      "905/905 - 1s - loss: 2.9181e-04 - 840ms/epoch - 928us/step\n",
      "Epoch 33/100\n",
      "905/905 - 1s - loss: 2.8963e-04 - 815ms/epoch - 901us/step\n",
      "Epoch 34/100\n",
      "905/905 - 1s - loss: 2.8984e-04 - 823ms/epoch - 909us/step\n",
      "Epoch 35/100\n",
      "905/905 - 1s - loss: 2.9268e-04 - 813ms/epoch - 898us/step\n",
      "Epoch 36/100\n",
      "905/905 - 1s - loss: 2.8960e-04 - 825ms/epoch - 911us/step\n",
      "Epoch 37/100\n",
      "905/905 - 1s - loss: 2.9916e-04 - 843ms/epoch - 931us/step\n",
      "Epoch 38/100\n",
      "905/905 - 1s - loss: 2.7938e-04 - 829ms/epoch - 916us/step\n",
      "Epoch 39/100\n",
      "905/905 - 1s - loss: 2.8021e-04 - 791ms/epoch - 874us/step\n",
      "Epoch 40/100\n",
      "905/905 - 1s - loss: 2.8645e-04 - 783ms/epoch - 865us/step\n",
      "Epoch 41/100\n",
      "905/905 - 1s - loss: 2.9950e-04 - 789ms/epoch - 872us/step\n",
      "Epoch 42/100\n",
      "905/905 - 1s - loss: 2.9077e-04 - 812ms/epoch - 897us/step\n",
      "Epoch 43/100\n",
      "905/905 - 1s - loss: 2.9049e-04 - 839ms/epoch - 927us/step\n",
      "Epoch 44/100\n",
      "905/905 - 1s - loss: 2.8139e-04 - 882ms/epoch - 975us/step\n",
      "Epoch 45/100\n",
      "905/905 - 1s - loss: 2.8319e-04 - 818ms/epoch - 904us/step\n",
      "Epoch 46/100\n",
      "905/905 - 1s - loss: 2.7908e-04 - 814ms/epoch - 899us/step\n",
      "Epoch 47/100\n",
      "905/905 - 1s - loss: 2.8761e-04 - 811ms/epoch - 896us/step\n",
      "Epoch 48/100\n",
      "905/905 - 1s - loss: 2.8481e-04 - 813ms/epoch - 898us/step\n",
      "Epoch 49/100\n",
      "905/905 - 1s - loss: 2.8035e-04 - 787ms/epoch - 870us/step\n",
      "Epoch 50/100\n",
      "905/905 - 1s - loss: 2.8583e-04 - 801ms/epoch - 885us/step\n",
      "Epoch 51/100\n",
      "905/905 - 1s - loss: 2.8881e-04 - 791ms/epoch - 874us/step\n",
      "Epoch 52/100\n",
      "905/905 - 1s - loss: 2.8729e-04 - 813ms/epoch - 898us/step\n",
      "Epoch 53/100\n",
      "905/905 - 1s - loss: 2.8530e-04 - 834ms/epoch - 922us/step\n",
      "Epoch 54/100\n",
      "905/905 - 1s - loss: 2.8535e-04 - 814ms/epoch - 900us/step\n",
      "Epoch 55/100\n",
      "905/905 - 1s - loss: 2.9573e-04 - 790ms/epoch - 873us/step\n",
      "Epoch 56/100\n",
      "905/905 - 1s - loss: 2.8564e-04 - 800ms/epoch - 884us/step\n",
      "Epoch 57/100\n",
      "905/905 - 1s - loss: 2.8436e-04 - 794ms/epoch - 877us/step\n",
      "Epoch 58/100\n",
      "905/905 - 1s - loss: 2.8147e-04 - 791ms/epoch - 874us/step\n",
      "Epoch 59/100\n",
      "905/905 - 1s - loss: 2.7800e-04 - 794ms/epoch - 877us/step\n",
      "Epoch 60/100\n",
      "905/905 - 1s - loss: 2.8402e-04 - 794ms/epoch - 877us/step\n",
      "Epoch 61/100\n",
      "905/905 - 1s - loss: 2.8319e-04 - 795ms/epoch - 879us/step\n",
      "Epoch 62/100\n",
      "905/905 - 1s - loss: 2.7878e-04 - 817ms/epoch - 903us/step\n",
      "Epoch 63/100\n",
      "905/905 - 1s - loss: 2.7615e-04 - 841ms/epoch - 929us/step\n",
      "Epoch 64/100\n",
      "905/905 - 1s - loss: 2.8492e-04 - 809ms/epoch - 894us/step\n",
      "Epoch 65/100\n",
      "905/905 - 1s - loss: 2.8722e-04 - 840ms/epoch - 928us/step\n",
      "Epoch 66/100\n",
      "905/905 - 1s - loss: 2.7913e-04 - 826ms/epoch - 913us/step\n",
      "Epoch 67/100\n",
      "905/905 - 1s - loss: 2.8912e-04 - 841ms/epoch - 929us/step\n",
      "Epoch 68/100\n",
      "905/905 - 1s - loss: 2.7845e-04 - 817ms/epoch - 902us/step\n",
      "Epoch 69/100\n",
      "905/905 - 1s - loss: 2.8413e-04 - 841ms/epoch - 930us/step\n",
      "Epoch 70/100\n",
      "905/905 - 1s - loss: 2.8275e-04 - 840ms/epoch - 928us/step\n",
      "Epoch 71/100\n",
      "905/905 - 1s - loss: 2.8124e-04 - 837ms/epoch - 924us/step\n",
      "Epoch 72/100\n",
      "905/905 - 1s - loss: 2.8201e-04 - 835ms/epoch - 922us/step\n",
      "Epoch 73/100\n",
      "905/905 - 1s - loss: 2.7087e-04 - 850ms/epoch - 939us/step\n",
      "Epoch 74/100\n",
      "905/905 - 1s - loss: 2.7398e-04 - 853ms/epoch - 943us/step\n",
      "Epoch 75/100\n",
      "905/905 - 1s - loss: 2.7015e-04 - 848ms/epoch - 937us/step\n",
      "Epoch 76/100\n",
      "905/905 - 1s - loss: 2.7881e-04 - 849ms/epoch - 938us/step\n",
      "Epoch 77/100\n",
      "905/905 - 1s - loss: 2.7820e-04 - 824ms/epoch - 911us/step\n",
      "Epoch 78/100\n",
      "905/905 - 1s - loss: 2.7550e-04 - 815ms/epoch - 900us/step\n",
      "Epoch 79/100\n",
      "905/905 - 1s - loss: 2.7579e-04 - 813ms/epoch - 898us/step\n",
      "Epoch 80/100\n",
      "905/905 - 1s - loss: 2.8474e-04 - 837ms/epoch - 925us/step\n",
      "Epoch 81/100\n",
      "905/905 - 1s - loss: 2.7631e-04 - 799ms/epoch - 883us/step\n",
      "Epoch 82/100\n",
      "905/905 - 1s - loss: 2.7745e-04 - 833ms/epoch - 921us/step\n",
      "Epoch 83/100\n",
      "905/905 - 1s - loss: 2.7765e-04 - 835ms/epoch - 923us/step\n",
      "Epoch 84/100\n",
      "905/905 - 1s - loss: 2.8626e-04 - 820ms/epoch - 906us/step\n",
      "Epoch 85/100\n",
      "905/905 - 1s - loss: 2.8588e-04 - 832ms/epoch - 919us/step\n",
      "Epoch 86/100\n",
      "905/905 - 1s - loss: 2.8279e-04 - 827ms/epoch - 914us/step\n",
      "Epoch 87/100\n",
      "905/905 - 1s - loss: 2.7709e-04 - 832ms/epoch - 920us/step\n",
      "Epoch 88/100\n",
      "905/905 - 1s - loss: 2.8677e-04 - 861ms/epoch - 952us/step\n",
      "Epoch 89/100\n",
      "905/905 - 1s - loss: 2.8109e-04 - 834ms/epoch - 922us/step\n",
      "Epoch 90/100\n",
      "905/905 - 1s - loss: 2.7752e-04 - 829ms/epoch - 916us/step\n",
      "Epoch 91/100\n",
      "905/905 - 1s - loss: 2.8299e-04 - 828ms/epoch - 915us/step\n",
      "Epoch 92/100\n",
      "905/905 - 1s - loss: 2.8514e-04 - 816ms/epoch - 902us/step\n",
      "Epoch 93/100\n",
      "905/905 - 1s - loss: 2.7547e-04 - 843ms/epoch - 931us/step\n",
      "Epoch 94/100\n",
      "905/905 - 1s - loss: 2.7351e-04 - 848ms/epoch - 937us/step\n",
      "Epoch 95/100\n",
      "905/905 - 1s - loss: 2.8540e-04 - 847ms/epoch - 936us/step\n",
      "Epoch 96/100\n",
      "905/905 - 1s - loss: 2.7634e-04 - 845ms/epoch - 934us/step\n",
      "Epoch 97/100\n",
      "905/905 - 1s - loss: 2.7826e-04 - 833ms/epoch - 920us/step\n",
      "Epoch 98/100\n",
      "905/905 - 1s - loss: 2.6691e-04 - 827ms/epoch - 914us/step\n",
      "Epoch 99/100\n",
      "905/905 - 1s - loss: 2.8121e-04 - 807ms/epoch - 891us/step\n",
      "Epoch 100/100\n",
      "905/905 - 1s - loss: 2.7904e-04 - 817ms/epoch - 903us/step\n"
     ]
    },
    {
     "data": {
      "text/plain": [
       "<keras.callbacks.History at 0x26af48d2200>"
      ]
     },
     "execution_count": 48,
     "metadata": {},
     "output_type": "execute_result"
    }
   ],
   "source": [
    "# create and fit the LSTM network\n",
    "model = Sequential()\n",
    "model.add(LSTM(4, input_shape=(1, look_back)))\n",
    "model.add(Dense(1))\n",
    "model.compile(loss='mean_squared_error', optimizer='adam')\n",
    "model.fit(trainX, trainY, epochs=100, batch_size=1, verbose=2)"
   ]
  },
  {
   "cell_type": "code",
   "execution_count": 49,
   "id": "4a359fdf",
   "metadata": {},
   "outputs": [
    {
     "name": "stdout",
     "output_type": "stream",
     "text": [
      "29/29 [==============================] - 0s 896us/step\n",
      "4/4 [==============================] - 0s 3ms/step\n",
      "Train Score: 0.00 RMSE\n",
      "Test Score: 0.00 RMSE\n"
     ]
    }
   ],
   "source": [
    "# make predictions\n",
    "trainPredict = model.predict(trainX)\n",
    "testPredict = model.predict(testX)\n",
    "# invert predictions\n",
    "trainPredict = scaler.inverse_transform(trainPredict)\n",
    "trainY = scaler.inverse_transform([trainY])\n",
    "testPredict = scaler.inverse_transform(testPredict)\n",
    "testY = scaler.inverse_transform([testY])\n",
    "# calculate root mean squared error\n",
    "trainScore = np.sqrt(mean_squared_error(trainY[0], trainPredict[:,0]))\n",
    "print('Train Score: %.2f RMSE' % (trainScore))\n",
    "testScore = np.sqrt(mean_squared_error(testY[0], testPredict[:,0]))\n",
    "print('Test Score: %.2f RMSE' % (testScore))"
   ]
  },
  {
   "cell_type": "code",
   "execution_count": 50,
   "id": "4528b2b6",
   "metadata": {},
   "outputs": [
    {
     "data": {
      "image/png": "[encoded data removed]",
      "text/plain": [
       "<Figure size 432x288 with 1 Axes>"
      ]
     },
     "metadata": {
      "needs_background": "light"
     },
     "output_type": "display_data"
    },
    {
     "name": "stdout",
     "output_type": "stream",
     "text": [
      "MSE: 8.464024277189299e-06\n"
     ]
    }
   ],
   "source": [
    "# shift train predictions for plotting\n",
    "trainPredictPlot = np.empty_like(dataset)\n",
    "trainPredictPlot[:, :] = np.nan\n",
    "trainPredictPlot[look_back:len(trainPredict)+look_back, :] = trainPredict\n",
    "# shift test predictions for plotting\n",
    "testPredictPlot = np.empty_like(dataset)\n",
    "testPredictPlot[:, :] = np.nan\n",
    "testPredictPlot[len(trainPredict)+(look_back*2)+1:len(dataset)-1, :] = testPredict\n",
    "# plot baseline and predictions\n",
    "plt.plot(scaler.inverse_transform(dataset)+0.2)\n",
    "#plt.plot(trainPredictPlot,color='b')\n",
    "plt.plot(testPredictPlot+0.2,color='r')\n",
    "plt.xlabel('Cycles')\n",
    "plt.ylabel('SoH')\n",
    "plt.legend(['True Values','Predicted'])\n",
    "plt.show()\n",
    "print('MSE:',mean_squared_error(testY.T, testPredict))"
   ]
  },
  {
   "cell_type": "code",
   "execution_count": 51,
   "id": "475179b3",
   "metadata": {},
   "outputs": [
    {
     "data": {
      "text/plain": [
       "Text(0, 0.5, 'SoH')"
      ]
     },
     "execution_count": 51,
     "metadata": {},
     "output_type": "execute_result"
    },
    {
     "data": {
      "image/png": "[encoded data removed]",
      "text/plain": [
       "<Figure size 432x288 with 1 Axes>"
      ]
     },
     "metadata": {
      "needs_background": "light"
     },
     "output_type": "display_data"
    }
   ],
   "source": [
    "plt.plot(testY.T+0.2)\n",
    "plt.plot(testPredict+0.2,color='r')\n",
    "plt.legend(['True Values','Predicted'])\n",
    "plt.xlabel('Cycles')\n",
    "plt.ylabel('SoH')"
   ]
  },
  {
   "cell_type": "code",
   "execution_count": 52,
   "id": "a79158f7",
   "metadata": {},
   "outputs": [
    {
     "name": "stdout",
     "output_type": "stream",
     "text": [
      "RMSEP5: [0.00436481]\n",
      "rmse5: 0.00290929961970047\n",
      "mse5: 8.464024277189299e-06\n",
      "mae5: 0.002396936292282607\n"
     ]
    }
   ],
   "source": [
    "rmse5 = np.sqrt(mean_squared_error(testY[0], testPredict[:,0]))\n",
    "mse5 = mean_squared_error(testY.T, testPredict)\n",
    "mae5 = mean_absolute_error(testY.T, testPredict)\n",
    "rmsep5 = np.sqrt(np.mean(np.square(((testY.T - testPredict) / testY.T)), axis=0))\n",
    "print('RMSEP5:', rmsep5)\n",
    "print('rmse5:', rmse5)\n",
    "print('mse5:', mse5)\n",
    "print('mae5:', mae5)"
   ]
  },
  {
   "cell_type": "markdown",
   "id": "1e26d865",
   "metadata": {},
   "source": [
    "## For 110 cycles"
   ]
  },
  {
   "cell_type": "code",
   "execution_count": 53,
   "id": "ae2d1c1e",
   "metadata": {},
   "outputs": [
    {
     "name": "stdout",
     "output_type": "stream",
     "text": [
      "897 111\n"
     ]
    }
   ],
   "source": [
    "# split into train and test sets\n",
    "train_size = int(len(dataset) * 0.89)\n",
    "test_size = len(dataset) - train_size\n",
    "train, test = dataset[0:train_size,:], dataset[train_size:len(dataset),:]\n",
    "print(len(train), len(test))"
   ]
  },
  {
   "cell_type": "code",
   "execution_count": 54,
   "id": "4152d348",
   "metadata": {},
   "outputs": [],
   "source": [
    "# reshape into X=t and Y=t+1\n",
    "look_back = 1\n",
    "trainX, trainY = create_dataset(train, look_back)\n",
    "testX, testY = create_dataset(test, look_back)\n",
    "# reshape input to be [samples, time steps, features]\n",
    "trainX = np.reshape(trainX, (trainX.shape[0], 1, trainX.shape[1]))\n",
    "testX = np.reshape(testX, (testX.shape[0], 1, testX.shape[1]))"
   ]
  },
  {
   "cell_type": "code",
   "execution_count": 55,
   "id": "246ade4b",
   "metadata": {
    "scrolled": true
   },
   "outputs": [
    {
     "name": "stdout",
     "output_type": "stream",
     "text": [
      "Epoch 1/100\n",
      "895/895 - 2s - loss: 0.1173 - 2s/epoch - 2ms/step\n",
      "Epoch 2/100\n",
      "895/895 - 1s - loss: 0.0088 - 829ms/epoch - 926us/step\n",
      "Epoch 3/100\n",
      "895/895 - 1s - loss: 0.0052 - 809ms/epoch - 904us/step\n",
      "Epoch 4/100\n",
      "895/895 - 1s - loss: 0.0023 - 819ms/epoch - 916us/step\n",
      "Epoch 5/100\n",
      "895/895 - 1s - loss: 7.2306e-04 - 835ms/epoch - 933us/step\n",
      "Epoch 6/100\n",
      "895/895 - 1s - loss: 3.1610e-04 - 859ms/epoch - 960us/step\n",
      "Epoch 7/100\n",
      "895/895 - 1s - loss: 2.7769e-04 - 803ms/epoch - 897us/step\n",
      "Epoch 8/100\n",
      "895/895 - 1s - loss: 2.8015e-04 - 808ms/epoch - 903us/step\n",
      "Epoch 9/100\n",
      "895/895 - 1s - loss: 2.8962e-04 - 804ms/epoch - 898us/step\n",
      "Epoch 10/100\n",
      "895/895 - 1s - loss: 2.8747e-04 - 814ms/epoch - 909us/step\n",
      "Epoch 11/100\n",
      "895/895 - 1s - loss: 2.7149e-04 - 801ms/epoch - 895us/step\n",
      "Epoch 12/100\n",
      "895/895 - 1s - loss: 2.8299e-04 - 801ms/epoch - 895us/step\n",
      "Epoch 13/100\n",
      "895/895 - 1s - loss: 2.8398e-04 - 806ms/epoch - 901us/step\n",
      "Epoch 14/100\n",
      "895/895 - 1s - loss: 2.7660e-04 - 799ms/epoch - 893us/step\n",
      "Epoch 15/100\n",
      "895/895 - 1s - loss: 2.7781e-04 - 807ms/epoch - 902us/step\n",
      "Epoch 16/100\n",
      "895/895 - 1s - loss: 2.8366e-04 - 822ms/epoch - 919us/step\n",
      "Epoch 17/100\n",
      "895/895 - 1s - loss: 2.8445e-04 - 826ms/epoch - 923us/step\n",
      "Epoch 18/100\n",
      "895/895 - 1s - loss: 2.8119e-04 - 820ms/epoch - 916us/step\n",
      "Epoch 19/100\n",
      "895/895 - 1s - loss: 2.8143e-04 - 841ms/epoch - 939us/step\n",
      "Epoch 20/100\n",
      "895/895 - 1s - loss: 2.8960e-04 - 855ms/epoch - 955us/step\n",
      "Epoch 21/100\n",
      "895/895 - 1s - loss: 2.7188e-04 - 827ms/epoch - 924us/step\n",
      "Epoch 22/100\n",
      "895/895 - 1s - loss: 2.8107e-04 - 799ms/epoch - 892us/step\n",
      "Epoch 23/100\n",
      "895/895 - 1s - loss: 2.8149e-04 - 823ms/epoch - 919us/step\n",
      "Epoch 24/100\n",
      "895/895 - 1s - loss: 2.8178e-04 - 831ms/epoch - 928us/step\n",
      "Epoch 25/100\n",
      "895/895 - 1s - loss: 2.7724e-04 - 850ms/epoch - 950us/step\n",
      "Epoch 26/100\n",
      "895/895 - 1s - loss: 2.7263e-04 - 808ms/epoch - 903us/step\n",
      "Epoch 27/100\n",
      "895/895 - 1s - loss: 2.7570e-04 - 801ms/epoch - 895us/step\n",
      "Epoch 28/100\n",
      "895/895 - 1s - loss: 2.7623e-04 - 833ms/epoch - 931us/step\n",
      "Epoch 29/100\n",
      "895/895 - 1s - loss: 2.7890e-04 - 840ms/epoch - 938us/step\n",
      "Epoch 30/100\n",
      "895/895 - 1s - loss: 2.6955e-04 - 830ms/epoch - 927us/step\n",
      "Epoch 31/100\n",
      "895/895 - 1s - loss: 2.7726e-04 - 800ms/epoch - 894us/step\n",
      "Epoch 32/100\n",
      "895/895 - 1s - loss: 2.7824e-04 - 812ms/epoch - 907us/step\n",
      "Epoch 33/100\n",
      "895/895 - 1s - loss: 2.9084e-04 - 824ms/epoch - 921us/step\n",
      "Epoch 34/100\n",
      "895/895 - 1s - loss: 2.7643e-04 - 801ms/epoch - 895us/step\n",
      "Epoch 35/100\n",
      "895/895 - 1s - loss: 2.7833e-04 - 797ms/epoch - 891us/step\n",
      "Epoch 36/100\n",
      "895/895 - 1s - loss: 2.7770e-04 - 814ms/epoch - 910us/step\n",
      "Epoch 37/100\n",
      "895/895 - 1s - loss: 2.7639e-04 - 806ms/epoch - 900us/step\n",
      "Epoch 38/100\n",
      "895/895 - 1s - loss: 2.7285e-04 - 806ms/epoch - 901us/step\n",
      "Epoch 39/100\n",
      "895/895 - 1s - loss: 2.7148e-04 - 791ms/epoch - 884us/step\n",
      "Epoch 40/100\n",
      "895/895 - 1s - loss: 2.7773e-04 - 801ms/epoch - 895us/step\n",
      "Epoch 41/100\n",
      "895/895 - 1s - loss: 2.7534e-04 - 820ms/epoch - 916us/step\n",
      "Epoch 42/100\n",
      "895/895 - 1s - loss: 2.6946e-04 - 821ms/epoch - 917us/step\n",
      "Epoch 43/100\n",
      "895/895 - 1s - loss: 2.8035e-04 - 831ms/epoch - 929us/step\n",
      "Epoch 44/100\n",
      "895/895 - 1s - loss: 2.8581e-04 - 829ms/epoch - 926us/step\n",
      "Epoch 45/100\n",
      "895/895 - 1s - loss: 2.7525e-04 - 841ms/epoch - 940us/step\n",
      "Epoch 46/100\n",
      "895/895 - 1s - loss: 2.8379e-04 - 823ms/epoch - 919us/step\n",
      "Epoch 47/100\n",
      "895/895 - 1s - loss: 2.7471e-04 - 796ms/epoch - 889us/step\n",
      "Epoch 48/100\n",
      "895/895 - 1s - loss: 2.8381e-04 - 810ms/epoch - 905us/step\n",
      "Epoch 49/100\n",
      "895/895 - 1s - loss: 2.8343e-04 - 799ms/epoch - 893us/step\n",
      "Epoch 50/100\n",
      "895/895 - 1s - loss: 2.8076e-04 - 805ms/epoch - 899us/step\n",
      "Epoch 51/100\n",
      "895/895 - 1s - loss: 2.7303e-04 - 802ms/epoch - 896us/step\n",
      "Epoch 52/100\n",
      "895/895 - 1s - loss: 2.7526e-04 - 800ms/epoch - 894us/step\n",
      "Epoch 53/100\n",
      "895/895 - 1s - loss: 2.7127e-04 - 792ms/epoch - 884us/step\n",
      "Epoch 54/100\n",
      "895/895 - 1s - loss: 2.7223e-04 - 809ms/epoch - 904us/step\n",
      "Epoch 55/100\n",
      "895/895 - 1s - loss: 2.7990e-04 - 793ms/epoch - 886us/step\n",
      "Epoch 56/100\n",
      "895/895 - 1s - loss: 2.7288e-04 - 800ms/epoch - 894us/step\n",
      "Epoch 57/100\n",
      "895/895 - 1s - loss: 2.7330e-04 - 791ms/epoch - 884us/step\n",
      "Epoch 58/100\n",
      "895/895 - 1s - loss: 2.7288e-04 - 801ms/epoch - 896us/step\n",
      "Epoch 59/100\n",
      "895/895 - 1s - loss: 2.7820e-04 - 828ms/epoch - 925us/step\n",
      "Epoch 60/100\n",
      "895/895 - 1s - loss: 2.7338e-04 - 826ms/epoch - 923us/step\n",
      "Epoch 61/100\n",
      "895/895 - 1s - loss: 2.6889e-04 - 814ms/epoch - 910us/step\n",
      "Epoch 62/100\n",
      "895/895 - 1s - loss: 2.7399e-04 - 811ms/epoch - 906us/step\n",
      "Epoch 63/100\n",
      "895/895 - 1s - loss: 2.8214e-04 - 811ms/epoch - 906us/step\n",
      "Epoch 64/100\n",
      "895/895 - 1s - loss: 2.6910e-04 - 806ms/epoch - 901us/step\n",
      "Epoch 65/100\n",
      "895/895 - 1s - loss: 2.6991e-04 - 816ms/epoch - 911us/step\n",
      "Epoch 66/100\n",
      "895/895 - 1s - loss: 2.7552e-04 - 806ms/epoch - 900us/step\n",
      "Epoch 67/100\n",
      "895/895 - 1s - loss: 2.6922e-04 - 820ms/epoch - 917us/step\n",
      "Epoch 68/100\n",
      "895/895 - 1s - loss: 2.7164e-04 - 847ms/epoch - 947us/step\n",
      "Epoch 69/100\n",
      "895/895 - 1s - loss: 2.6895e-04 - 847ms/epoch - 946us/step\n",
      "Epoch 70/100\n",
      "895/895 - 1s - loss: 2.7470e-04 - 830ms/epoch - 928us/step\n",
      "Epoch 71/100\n",
      "895/895 - 1s - loss: 2.7583e-04 - 835ms/epoch - 933us/step\n",
      "Epoch 72/100\n",
      "895/895 - 1s - loss: 2.7159e-04 - 820ms/epoch - 916us/step\n",
      "Epoch 73/100\n",
      "895/895 - 1s - loss: 2.6556e-04 - 826ms/epoch - 923us/step\n",
      "Epoch 74/100\n",
      "895/895 - 1s - loss: 2.7388e-04 - 824ms/epoch - 920us/step\n",
      "Epoch 75/100\n",
      "895/895 - 1s - loss: 2.7708e-04 - 812ms/epoch - 908us/step\n",
      "Epoch 76/100\n",
      "895/895 - 1s - loss: 2.7547e-04 - 805ms/epoch - 900us/step\n",
      "Epoch 77/100\n",
      "895/895 - 1s - loss: 2.7416e-04 - 795ms/epoch - 889us/step\n",
      "Epoch 78/100\n",
      "895/895 - 1s - loss: 2.7403e-04 - 793ms/epoch - 886us/step\n",
      "Epoch 79/100\n",
      "895/895 - 1s - loss: 2.6413e-04 - 791ms/epoch - 884us/step\n",
      "Epoch 80/100\n",
      "895/895 - 1s - loss: 2.7791e-04 - 794ms/epoch - 887us/step\n",
      "Epoch 81/100\n",
      "895/895 - 1s - loss: 2.8714e-04 - 785ms/epoch - 877us/step\n",
      "Epoch 82/100\n",
      "895/895 - 1s - loss: 2.7717e-04 - 787ms/epoch - 880us/step\n",
      "Epoch 83/100\n",
      "895/895 - 1s - loss: 2.8329e-04 - 796ms/epoch - 889us/step\n",
      "Epoch 84/100\n",
      "895/895 - 1s - loss: 2.7401e-04 - 790ms/epoch - 883us/step\n",
      "Epoch 85/100\n",
      "895/895 - 1s - loss: 2.8151e-04 - 789ms/epoch - 882us/step\n",
      "Epoch 86/100\n",
      "895/895 - 1s - loss: 2.8715e-04 - 793ms/epoch - 886us/step\n",
      "Epoch 87/100\n",
      "895/895 - 1s - loss: 2.7744e-04 - 781ms/epoch - 873us/step\n",
      "Epoch 88/100\n",
      "895/895 - 1s - loss: 2.6869e-04 - 795ms/epoch - 888us/step\n",
      "Epoch 89/100\n",
      "895/895 - 1s - loss: 2.6950e-04 - 788ms/epoch - 880us/step\n",
      "Epoch 90/100\n",
      "895/895 - 1s - loss: 2.7758e-04 - 791ms/epoch - 884us/step\n",
      "Epoch 91/100\n",
      "895/895 - 1s - loss: 2.7865e-04 - 786ms/epoch - 878us/step\n",
      "Epoch 92/100\n",
      "895/895 - 1s - loss: 2.7728e-04 - 778ms/epoch - 869us/step\n",
      "Epoch 93/100\n",
      "895/895 - 1s - loss: 2.7112e-04 - 788ms/epoch - 880us/step\n",
      "Epoch 94/100\n",
      "895/895 - 1s - loss: 2.7284e-04 - 786ms/epoch - 878us/step\n",
      "Epoch 95/100\n",
      "895/895 - 1s - loss: 2.7344e-04 - 799ms/epoch - 893us/step\n",
      "Epoch 96/100\n",
      "895/895 - 1s - loss: 2.7388e-04 - 799ms/epoch - 893us/step\n",
      "Epoch 97/100\n",
      "895/895 - 1s - loss: 2.7512e-04 - 787ms/epoch - 879us/step\n",
      "Epoch 98/100\n",
      "895/895 - 1s - loss: 2.7488e-04 - 794ms/epoch - 887us/step\n",
      "Epoch 99/100\n",
      "895/895 - 1s - loss: 2.7827e-04 - 801ms/epoch - 895us/step\n",
      "Epoch 100/100\n",
      "895/895 - 1s - loss: 2.6653e-04 - 796ms/epoch - 890us/step\n"
     ]
    },
    {
     "data": {
      "text/plain": [
       "<keras.callbacks.History at 0x26afc50dde0>"
      ]
     },
     "execution_count": 55,
     "metadata": {},
     "output_type": "execute_result"
    }
   ],
   "source": [
    "# create and fit the LSTM network\n",
    "model = Sequential()\n",
    "model.add(LSTM(4, input_shape=(1, look_back)))\n",
    "model.add(Dense(1))\n",
    "model.compile(loss='mean_squared_error', optimizer='adam')\n",
    "model.fit(trainX, trainY, epochs=100, batch_size=1, verbose=2)"
   ]
  },
  {
   "cell_type": "code",
   "execution_count": 56,
   "id": "46983c74",
   "metadata": {},
   "outputs": [
    {
     "name": "stdout",
     "output_type": "stream",
     "text": [
      "28/28 [==============================] - 0s 914us/step\n",
      "4/4 [==============================] - 0s 1ms/step\n",
      "Train Score: 0.00 RMSE\n",
      "Test Score: 0.00 RMSE\n"
     ]
    }
   ],
   "source": [
    "# make predictions\n",
    "trainPredict = model.predict(trainX)\n",
    "testPredict = model.predict(testX)\n",
    "# invert predictions\n",
    "trainPredict = scaler.inverse_transform(trainPredict)\n",
    "trainY = scaler.inverse_transform([trainY])\n",
    "testPredict = scaler.inverse_transform(testPredict)\n",
    "testY = scaler.inverse_transform([testY])\n",
    "# calculate root mean squared error\n",
    "trainScore = np.sqrt(mean_squared_error(trainY[0], trainPredict[:,0]))\n",
    "print('Train Score: %.2f RMSE' % (trainScore))\n",
    "testScore = np.sqrt(mean_squared_error(testY[0], testPredict[:,0]))\n",
    "print('Test Score: %.2f RMSE' % (testScore))"
   ]
  },
  {
   "cell_type": "code",
   "execution_count": 57,
   "id": "5f6e88b6",
   "metadata": {},
   "outputs": [
    {
     "data": {
      "image/png": "[encoded data removed]",
      "text/plain": [
       "<Figure size 432x288 with 1 Axes>"
      ]
     },
     "metadata": {
      "needs_background": "light"
     },
     "output_type": "display_data"
    },
    {
     "name": "stdout",
     "output_type": "stream",
     "text": [
      "MSE: 1.9210158122971948e-05\n"
     ]
    }
   ],
   "source": [
    "# shift train predictions for plotting\n",
    "trainPredictPlot = np.empty_like(dataset)\n",
    "trainPredictPlot[:, :] = np.nan\n",
    "trainPredictPlot[look_back:len(trainPredict)+look_back, :] = trainPredict\n",
    "# shift test predictions for plotting\n",
    "testPredictPlot = np.empty_like(dataset)\n",
    "testPredictPlot[:, :] = np.nan\n",
    "testPredictPlot[len(trainPredict)+(look_back*2)+1:len(dataset)-1, :] = testPredict\n",
    "# plot baseline and predictions\n",
    "plt.plot(scaler.inverse_transform(dataset)+0.2)\n",
    "#plt.plot(trainPredictPlot,color='b')\n",
    "plt.plot(testPredictPlot+0.2,color='r')\n",
    "plt.xlabel('Cycles')\n",
    "plt.ylabel('SoH')\n",
    "plt.legend(['True Values','Predicted'])\n",
    "plt.show()\n",
    "print('MSE:',mean_squared_error(testY.T, testPredict))"
   ]
  },
  {
   "cell_type": "code",
   "execution_count": 58,
   "id": "6cff0892",
   "metadata": {},
   "outputs": [
    {
     "data": {
      "text/plain": [
       "Text(0, 0.5, 'SoH')"
      ]
     },
     "execution_count": 58,
     "metadata": {},
     "output_type": "execute_result"
    },
    {
     "data": {
      "image/png": "[encoded data removed]",
      "text/plain": [
       "<Figure size 432x288 with 1 Axes>"
      ]
     },
     "metadata": {
      "needs_background": "light"
     },
     "output_type": "display_data"
    }
   ],
   "source": [
    "plt.plot(testY.T+0.2)\n",
    "plt.plot(testPredict+0.2,color='r')\n",
    "plt.legend(['True Values','Predicted'])\n",
    "plt.xlabel('Cycles')\n",
    "plt.ylabel('SoH')"
   ]
  },
  {
   "cell_type": "code",
   "execution_count": 59,
   "id": "7edb4b52",
   "metadata": {},
   "outputs": [
    {
     "name": "stdout",
     "output_type": "stream",
     "text": [
      "RMSEP6: [0.00659883]\n",
      "rmse6: 0.004382939438661222\n",
      "mse6: 1.9210158122971948e-05\n",
      "mae6: 0.0036066495388392865\n"
     ]
    }
   ],
   "source": [
    "rmse6 = np.sqrt(mean_squared_error(testY[0], testPredict[:,0]))\n",
    "mse6 = mean_squared_error(testY.T, testPredict)\n",
    "mae6 = mean_absolute_error(testY.T, testPredict)\n",
    "rmsep6 = np.sqrt(np.mean(np.square(((testY.T - testPredict) / testY.T)), axis=0))\n",
    "print('RMSEP6:', rmsep6)\n",
    "print('rmse6:', rmse6)\n",
    "print('mse6:', mse6)\n",
    "print('mae6:', mae6)"
   ]
  },
  {
   "cell_type": "markdown",
   "id": "37764997",
   "metadata": {},
   "source": [
    "## For 120 cycles"
   ]
  },
  {
   "cell_type": "code",
   "execution_count": 60,
   "id": "1ca88221",
   "metadata": {},
   "outputs": [
    {
     "name": "stdout",
     "output_type": "stream",
     "text": [
      "887 121\n"
     ]
    }
   ],
   "source": [
    "# split into train and test sets\n",
    "train_size = int(len(dataset) * 0.88)\n",
    "test_size = len(dataset) - train_size\n",
    "train, test = dataset[0:train_size,:], dataset[train_size:len(dataset),:]\n",
    "print(len(train), len(test))"
   ]
  },
  {
   "cell_type": "code",
   "execution_count": 61,
   "id": "ffaf65f1",
   "metadata": {},
   "outputs": [],
   "source": [
    "# reshape into X=t and Y=t+1\n",
    "look_back = 1\n",
    "trainX, trainY = create_dataset(train, look_back)\n",
    "testX, testY = create_dataset(test, look_back)\n",
    "# reshape input to be [samples, time steps, features]\n",
    "trainX = np.reshape(trainX, (trainX.shape[0], 1, trainX.shape[1]))\n",
    "testX = np.reshape(testX, (testX.shape[0], 1, testX.shape[1]))"
   ]
  },
  {
   "cell_type": "code",
   "execution_count": 62,
   "id": "aba90547",
   "metadata": {
    "scrolled": true
   },
   "outputs": [
    {
     "name": "stdout",
     "output_type": "stream",
     "text": [
      "Epoch 1/100\n",
      "885/885 - 2s - loss: 0.0898 - 2s/epoch - 2ms/step\n",
      "Epoch 2/100\n",
      "885/885 - 1s - loss: 0.0060 - 781ms/epoch - 883us/step\n",
      "Epoch 3/100\n",
      "885/885 - 1s - loss: 0.0037 - 788ms/epoch - 890us/step\n",
      "Epoch 4/100\n",
      "885/885 - 1s - loss: 0.0017 - 787ms/epoch - 890us/step\n",
      "Epoch 5/100\n",
      "885/885 - 1s - loss: 6.6417e-04 - 778ms/epoch - 879us/step\n",
      "Epoch 6/100\n",
      "885/885 - 1s - loss: 3.1445e-04 - 789ms/epoch - 892us/step\n",
      "Epoch 7/100\n",
      "885/885 - 1s - loss: 2.6993e-04 - 792ms/epoch - 895us/step\n",
      "Epoch 8/100\n",
      "885/885 - 1s - loss: 2.6756e-04 - 795ms/epoch - 898us/step\n",
      "Epoch 9/100\n",
      "885/885 - 1s - loss: 2.6333e-04 - 788ms/epoch - 890us/step\n",
      "Epoch 10/100\n",
      "885/885 - 1s - loss: 2.7272e-04 - 786ms/epoch - 889us/step\n",
      "Epoch 11/100\n",
      "885/885 - 1s - loss: 2.8193e-04 - 792ms/epoch - 895us/step\n",
      "Epoch 12/100\n",
      "885/885 - 1s - loss: 2.6740e-04 - 790ms/epoch - 893us/step\n",
      "Epoch 13/100\n",
      "885/885 - 1s - loss: 2.7255e-04 - 784ms/epoch - 886us/step\n",
      "Epoch 14/100\n",
      "885/885 - 1s - loss: 2.7790e-04 - 796ms/epoch - 899us/step\n",
      "Epoch 15/100\n",
      "885/885 - 1s - loss: 2.6919e-04 - 777ms/epoch - 879us/step\n",
      "Epoch 16/100\n",
      "885/885 - 1s - loss: 2.7148e-04 - 775ms/epoch - 876us/step\n",
      "Epoch 17/100\n",
      "885/885 - 1s - loss: 2.7167e-04 - 780ms/epoch - 882us/step\n",
      "Epoch 18/100\n",
      "885/885 - 1s - loss: 2.8403e-04 - 787ms/epoch - 889us/step\n",
      "Epoch 19/100\n",
      "885/885 - 1s - loss: 2.6479e-04 - 784ms/epoch - 886us/step\n",
      "Epoch 20/100\n",
      "885/885 - 1s - loss: 2.8453e-04 - 780ms/epoch - 881us/step\n",
      "Epoch 21/100\n",
      "885/885 - 1s - loss: 2.7458e-04 - 793ms/epoch - 896us/step\n",
      "Epoch 22/100\n",
      "885/885 - 1s - loss: 2.6684e-04 - 788ms/epoch - 891us/step\n",
      "Epoch 23/100\n",
      "885/885 - 1s - loss: 2.7114e-04 - 781ms/epoch - 883us/step\n",
      "Epoch 24/100\n",
      "885/885 - 1s - loss: 2.8005e-04 - 782ms/epoch - 883us/step\n",
      "Epoch 25/100\n",
      "885/885 - 1s - loss: 2.7158e-04 - 785ms/epoch - 887us/step\n",
      "Epoch 26/100\n",
      "885/885 - 1s - loss: 2.7584e-04 - 789ms/epoch - 891us/step\n",
      "Epoch 27/100\n",
      "885/885 - 1s - loss: 2.8294e-04 - 799ms/epoch - 903us/step\n",
      "Epoch 28/100\n",
      "885/885 - 1s - loss: 2.7320e-04 - 790ms/epoch - 892us/step\n",
      "Epoch 29/100\n",
      "885/885 - 1s - loss: 2.6611e-04 - 786ms/epoch - 888us/step\n",
      "Epoch 30/100\n",
      "885/885 - 1s - loss: 2.7505e-04 - 811ms/epoch - 917us/step\n",
      "Epoch 31/100\n",
      "885/885 - 1s - loss: 2.6769e-04 - 810ms/epoch - 916us/step\n",
      "Epoch 32/100\n",
      "885/885 - 1s - loss: 2.8281e-04 - 810ms/epoch - 916us/step\n",
      "Epoch 33/100\n",
      "885/885 - 1s - loss: 2.6920e-04 - 807ms/epoch - 912us/step\n",
      "Epoch 34/100\n",
      "885/885 - 1s - loss: 2.6723e-04 - 784ms/epoch - 885us/step\n",
      "Epoch 35/100\n",
      "885/885 - 1s - loss: 2.7501e-04 - 794ms/epoch - 897us/step\n",
      "Epoch 36/100\n",
      "885/885 - 1s - loss: 2.7270e-04 - 800ms/epoch - 904us/step\n",
      "Epoch 37/100\n",
      "885/885 - 1s - loss: 2.6688e-04 - 799ms/epoch - 903us/step\n",
      "Epoch 38/100\n",
      "885/885 - 1s - loss: 2.7264e-04 - 794ms/epoch - 897us/step\n",
      "Epoch 39/100\n",
      "885/885 - 1s - loss: 2.7150e-04 - 789ms/epoch - 892us/step\n",
      "Epoch 40/100\n",
      "885/885 - 1s - loss: 2.7566e-04 - 794ms/epoch - 897us/step\n",
      "Epoch 41/100\n",
      "885/885 - 1s - loss: 2.7025e-04 - 784ms/epoch - 886us/step\n",
      "Epoch 42/100\n",
      "885/885 - 1s - loss: 2.7216e-04 - 797ms/epoch - 901us/step\n",
      "Epoch 43/100\n",
      "885/885 - 1s - loss: 2.7284e-04 - 783ms/epoch - 885us/step\n",
      "Epoch 44/100\n",
      "885/885 - 1s - loss: 2.8219e-04 - 790ms/epoch - 893us/step\n",
      "Epoch 45/100\n",
      "885/885 - 1s - loss: 2.6540e-04 - 798ms/epoch - 902us/step\n",
      "Epoch 46/100\n",
      "885/885 - 1s - loss: 2.6490e-04 - 779ms/epoch - 880us/step\n",
      "Epoch 47/100\n",
      "885/885 - 1s - loss: 2.7272e-04 - 787ms/epoch - 890us/step\n",
      "Epoch 48/100\n",
      "885/885 - 1s - loss: 2.7442e-04 - 781ms/epoch - 882us/step\n",
      "Epoch 49/100\n",
      "885/885 - 1s - loss: 2.7882e-04 - 783ms/epoch - 885us/step\n",
      "Epoch 50/100\n",
      "885/885 - 1s - loss: 2.7224e-04 - 795ms/epoch - 899us/step\n",
      "Epoch 51/100\n",
      "885/885 - 1s - loss: 2.7756e-04 - 796ms/epoch - 900us/step\n",
      "Epoch 52/100\n",
      "885/885 - 1s - loss: 2.6687e-04 - 817ms/epoch - 923us/step\n",
      "Epoch 53/100\n",
      "885/885 - 1s - loss: 2.7211e-04 - 840ms/epoch - 949us/step\n",
      "Epoch 54/100\n",
      "885/885 - 1s - loss: 2.7106e-04 - 812ms/epoch - 917us/step\n",
      "Epoch 55/100\n",
      "885/885 - 1s - loss: 2.7950e-04 - 787ms/epoch - 890us/step\n",
      "Epoch 56/100\n",
      "885/885 - 1s - loss: 2.7218e-04 - 782ms/epoch - 883us/step\n",
      "Epoch 57/100\n",
      "885/885 - 1s - loss: 2.7421e-04 - 788ms/epoch - 891us/step\n",
      "Epoch 58/100\n",
      "885/885 - 1s - loss: 2.6500e-04 - 792ms/epoch - 895us/step\n",
      "Epoch 59/100\n",
      "885/885 - 1s - loss: 2.6761e-04 - 778ms/epoch - 880us/step\n",
      "Epoch 60/100\n",
      "885/885 - 1s - loss: 2.7067e-04 - 791ms/epoch - 894us/step\n",
      "Epoch 61/100\n",
      "885/885 - 1s - loss: 2.7756e-04 - 788ms/epoch - 890us/step\n",
      "Epoch 62/100\n",
      "885/885 - 1s - loss: 2.7268e-04 - 778ms/epoch - 879us/step\n",
      "Epoch 63/100\n",
      "885/885 - 1s - loss: 2.6514e-04 - 787ms/epoch - 889us/step\n",
      "Epoch 64/100\n",
      "885/885 - 1s - loss: 2.7262e-04 - 795ms/epoch - 898us/step\n",
      "Epoch 65/100\n",
      "885/885 - 1s - loss: 2.7256e-04 - 797ms/epoch - 901us/step\n",
      "Epoch 66/100\n",
      "885/885 - 1s - loss: 2.7048e-04 - 788ms/epoch - 891us/step\n",
      "Epoch 67/100\n",
      "885/885 - 1s - loss: 2.7297e-04 - 782ms/epoch - 883us/step\n",
      "Epoch 68/100\n",
      "885/885 - 1s - loss: 2.6935e-04 - 794ms/epoch - 897us/step\n",
      "Epoch 69/100\n",
      "885/885 - 1s - loss: 2.7525e-04 - 812ms/epoch - 917us/step\n",
      "Epoch 70/100\n",
      "885/885 - 1s - loss: 2.8314e-04 - 803ms/epoch - 908us/step\n",
      "Epoch 71/100\n",
      "885/885 - 1s - loss: 2.7167e-04 - 793ms/epoch - 896us/step\n",
      "Epoch 72/100\n",
      "885/885 - 1s - loss: 2.7147e-04 - 795ms/epoch - 898us/step\n",
      "Epoch 73/100\n",
      "885/885 - 1s - loss: 2.7002e-04 - 788ms/epoch - 891us/step\n",
      "Epoch 74/100\n",
      "885/885 - 1s - loss: 2.6481e-04 - 837ms/epoch - 945us/step\n",
      "Epoch 75/100\n",
      "885/885 - 1s - loss: 2.7082e-04 - 821ms/epoch - 928us/step\n",
      "Epoch 76/100\n",
      "885/885 - 1s - loss: 2.6895e-04 - 811ms/epoch - 916us/step\n",
      "Epoch 77/100\n",
      "885/885 - 1s - loss: 2.6662e-04 - 811ms/epoch - 917us/step\n",
      "Epoch 78/100\n",
      "885/885 - 1s - loss: 2.6918e-04 - 813ms/epoch - 918us/step\n",
      "Epoch 79/100\n",
      "885/885 - 1s - loss: 2.7358e-04 - 840ms/epoch - 949us/step\n",
      "Epoch 80/100\n",
      "885/885 - 1s - loss: 2.7092e-04 - 832ms/epoch - 940us/step\n",
      "Epoch 81/100\n",
      "885/885 - 1s - loss: 2.7734e-04 - 827ms/epoch - 934us/step\n",
      "Epoch 82/100\n",
      "885/885 - 1s - loss: 2.6264e-04 - 788ms/epoch - 890us/step\n",
      "Epoch 83/100\n",
      "885/885 - 1s - loss: 2.6860e-04 - 797ms/epoch - 901us/step\n",
      "Epoch 84/100\n",
      "885/885 - 1s - loss: 2.6916e-04 - 778ms/epoch - 879us/step\n",
      "Epoch 85/100\n",
      "885/885 - 1s - loss: 2.7838e-04 - 780ms/epoch - 882us/step\n",
      "Epoch 86/100\n",
      "885/885 - 1s - loss: 2.6831e-04 - 779ms/epoch - 881us/step\n",
      "Epoch 87/100\n",
      "885/885 - 1s - loss: 2.7400e-04 - 772ms/epoch - 872us/step\n",
      "Epoch 88/100\n",
      "885/885 - 1s - loss: 2.7071e-04 - 772ms/epoch - 873us/step\n",
      "Epoch 89/100\n",
      "885/885 - 1s - loss: 2.7037e-04 - 773ms/epoch - 874us/step\n",
      "Epoch 90/100\n",
      "885/885 - 1s - loss: 2.8513e-04 - 773ms/epoch - 873us/step\n",
      "Epoch 91/100\n",
      "885/885 - 1s - loss: 2.6575e-04 - 793ms/epoch - 896us/step\n",
      "Epoch 92/100\n",
      "885/885 - 1s - loss: 2.7641e-04 - 797ms/epoch - 901us/step\n",
      "Epoch 93/100\n",
      "885/885 - 1s - loss: 2.7234e-04 - 788ms/epoch - 891us/step\n",
      "Epoch 94/100\n",
      "885/885 - 1s - loss: 2.8617e-04 - 786ms/epoch - 888us/step\n",
      "Epoch 95/100\n",
      "885/885 - 1s - loss: 2.6701e-04 - 793ms/epoch - 896us/step\n",
      "Epoch 96/100\n",
      "885/885 - 1s - loss: 2.7389e-04 - 784ms/epoch - 886us/step\n",
      "Epoch 97/100\n",
      "885/885 - 1s - loss: 2.6684e-04 - 780ms/epoch - 881us/step\n",
      "Epoch 98/100\n",
      "885/885 - 1s - loss: 2.6661e-04 - 782ms/epoch - 884us/step\n",
      "Epoch 99/100\n",
      "885/885 - 1s - loss: 2.7084e-04 - 781ms/epoch - 883us/step\n",
      "Epoch 100/100\n",
      "885/885 - 1s - loss: 2.6790e-04 - 778ms/epoch - 879us/step\n"
     ]
    },
    {
     "data": {
      "text/plain": [
       "<keras.callbacks.History at 0x26afe9af5e0>"
      ]
     },
     "execution_count": 62,
     "metadata": {},
     "output_type": "execute_result"
    }
   ],
   "source": [
    "# create and fit the LSTM network\n",
    "model = Sequential()\n",
    "model.add(LSTM(4, input_shape=(1, look_back)))\n",
    "model.add(Dense(1))\n",
    "model.compile(loss='mean_squared_error', optimizer='adam')\n",
    "model.fit(trainX, trainY, epochs=100, batch_size=1, verbose=2)"
   ]
  },
  {
   "cell_type": "code",
   "execution_count": 63,
   "id": "b97e9b96",
   "metadata": {},
   "outputs": [
    {
     "name": "stdout",
     "output_type": "stream",
     "text": [
      "28/28 [==============================] - 0s 924us/step\n",
      "4/4 [==============================] - 0s 1ms/step\n",
      "Train Score: 0.00 RMSE\n",
      "Test Score: 0.00 RMSE\n"
     ]
    }
   ],
   "source": [
    "# make predictions\n",
    "trainPredict = model.predict(trainX)\n",
    "testPredict = model.predict(testX)\n",
    "# invert predictions\n",
    "trainPredict = scaler.inverse_transform(trainPredict)\n",
    "trainY = scaler.inverse_transform([trainY])\n",
    "testPredict = scaler.inverse_transform(testPredict)\n",
    "testY = scaler.inverse_transform([testY])\n",
    "# calculate root mean squared error\n",
    "trainScore = np.sqrt(mean_squared_error(trainY[0], trainPredict[:,0]))\n",
    "print('Train Score: %.2f RMSE' % (trainScore))\n",
    "testScore = np.sqrt(mean_squared_error(testY[0], testPredict[:,0]))\n",
    "print('Test Score: %.2f RMSE' % (testScore))"
   ]
  },
  {
   "cell_type": "code",
   "execution_count": 64,
   "id": "d0f2d46c",
   "metadata": {},
   "outputs": [
    {
     "data": {
      "image/png": "[encoded data removed]",
      "text/plain": [
       "<Figure size 432x288 with 1 Axes>"
      ]
     },
     "metadata": {
      "needs_background": "light"
     },
     "output_type": "display_data"
    },
    {
     "name": "stdout",
     "output_type": "stream",
     "text": [
      "MSE: 2.2205736395842784e-05\n"
     ]
    }
   ],
   "source": [
    "# shift train predictions for plotting\n",
    "trainPredictPlot = np.empty_like(dataset)\n",
    "trainPredictPlot[:, :] = np.nan\n",
    "trainPredictPlot[look_back:len(trainPredict)+look_back, :] = trainPredict\n",
    "# shift test predictions for plotting\n",
    "testPredictPlot = np.empty_like(dataset)\n",
    "testPredictPlot[:, :] = np.nan\n",
    "testPredictPlot[len(trainPredict)+(look_back*2)+1:len(dataset)-1, :] = testPredict\n",
    "# plot baseline and predictions\n",
    "plt.plot(scaler.inverse_transform(dataset)+0.2)\n",
    "#plt.plot(trainPredictPlot,color='b')\n",
    "plt.plot(testPredictPlot+0.2,color='r')\n",
    "plt.xlabel('Cycles')\n",
    "plt.ylabel('SoH')\n",
    "plt.legend(['True Values','Predicted'])\n",
    "plt.show()\n",
    "print('MSE:',mean_squared_error(testY.T, testPredict))"
   ]
  },
  {
   "cell_type": "code",
   "execution_count": 65,
   "id": "f66a25bf",
   "metadata": {},
   "outputs": [
    {
     "data": {
      "text/plain": [
       "Text(0, 0.5, 'SoH')"
      ]
     },
     "execution_count": 65,
     "metadata": {},
     "output_type": "execute_result"
    },
    {
     "data": {
      "image/png": "[encoded data removed]",
      "text/plain": [
       "<Figure size 432x288 with 1 Axes>"
      ]
     },
     "metadata": {
      "needs_background": "light"
     },
     "output_type": "display_data"
    }
   ],
   "source": [
    "plt.plot(testY.T+0.2)\n",
    "plt.plot(testPredict+0.2,color='r')\n",
    "plt.legend(['True Values','Predicted'])\n",
    "plt.xlabel('Cycles')\n",
    "plt.ylabel('SoH')"
   ]
  },
  {
   "cell_type": "code",
   "execution_count": 66,
   "id": "fd8f50b7",
   "metadata": {},
   "outputs": [
    {
     "name": "stdout",
     "output_type": "stream",
     "text": [
      "RMSEP7: [0.00709403]\n",
      "rmse7: 0.004712296297543564\n",
      "mse7: 2.2205736395842784e-05\n",
      "mae7: 0.0038160529155158063\n"
     ]
    }
   ],
   "source": [
    "rmse7 = np.sqrt(mean_squared_error(testY[0], testPredict[:,0]))\n",
    "mse7 = mean_squared_error(testY.T, testPredict)\n",
    "mae7 = mean_absolute_error(testY.T, testPredict)\n",
    "rmsep7 = np.sqrt(np.mean(np.square(((testY.T - testPredict) / testY.T)), axis=0))\n",
    "print('RMSEP7:', rmsep7)\n",
    "print('rmse7:', rmse7)\n",
    "print('mse7:', mse7)\n",
    "print('mae7:', mae7)"
   ]
  },
  {
   "cell_type": "markdown",
   "id": "532536ee",
   "metadata": {},
   "source": [
    "## For 60 cycles"
   ]
  },
  {
   "cell_type": "code",
   "execution_count": 67,
   "id": "ecd9b6fc",
   "metadata": {},
   "outputs": [
    {
     "name": "stdout",
     "output_type": "stream",
     "text": [
      "rmse1: 0.0035843281252863133\n",
      "mse1: 1.2847408109718497e-05\n",
      "mae1: 0.0031278266060830247\n",
      "RMSEP1: 0.005419742060777656\n"
     ]
    }
   ],
   "source": [
    "print('rmse1:', rmse1)\n",
    "print('mse1:', mse1)\n",
    "print('mae1:', mae1)\n",
    "print('RMSEP1:', rmsep1[0])"
   ]
  },
  {
   "cell_type": "markdown",
   "id": "e9a0ce19",
   "metadata": {},
   "source": [
    "## For 70 cycles"
   ]
  },
  {
   "cell_type": "code",
   "execution_count": 68,
   "id": "aa1a934e",
   "metadata": {},
   "outputs": [
    {
     "name": "stdout",
     "output_type": "stream",
     "text": [
      "rmse2: 0.0057103012704348526\n",
      "mse2: 3.260754059912989e-05\n",
      "mae2: 0.0051126073457054624\n",
      "RMSEP2: 0.008623942500755353\n"
     ]
    }
   ],
   "source": [
    "print('rmse2:', rmse2)\n",
    "print('mse2:', mse2)\n",
    "print('mae2:', mae2)\n",
    "print('RMSEP2:', rmsep2[0])"
   ]
  },
  {
   "cell_type": "markdown",
   "id": "26b34952",
   "metadata": {},
   "source": [
    "## For 80 cycles"
   ]
  },
  {
   "cell_type": "code",
   "execution_count": 69,
   "id": "cf9f2e6a",
   "metadata": {},
   "outputs": [
    {
     "name": "stdout",
     "output_type": "stream",
     "text": [
      "rmse3: 0.0064446214589575865\n",
      "mse3: 4.1533145749256614e-05\n",
      "mae3: 0.005619934950159669\n",
      "RMSEP3: 0.009733305347340092\n"
     ]
    }
   ],
   "source": [
    "print('rmse3:', rmse3)\n",
    "print('mse3:', mse3)\n",
    "print('mae3:', mae3)\n",
    "print('RMSEP3:', rmsep3[0])"
   ]
  },
  {
   "cell_type": "markdown",
   "id": "a382430b",
   "metadata": {},
   "source": [
    "## For 90 cycles"
   ]
  },
  {
   "cell_type": "code",
   "execution_count": 70,
   "id": "277c1e46",
   "metadata": {},
   "outputs": [
    {
     "name": "stdout",
     "output_type": "stream",
     "text": [
      "rmse4: 0.004394490166167927\n",
      "mse4: 1.931154382054661e-05\n",
      "mae4: 0.0037742200320339927\n",
      "RMSEP4: 0.006619365289726818\n"
     ]
    }
   ],
   "source": [
    "print('rmse4:', rmse4)\n",
    "print('mse4:', mse4)\n",
    "print('mae4:', mae4)\n",
    "print('RMSEP4:', rmsep4[0])"
   ]
  },
  {
   "cell_type": "markdown",
   "id": "bf4739bd",
   "metadata": {},
   "source": [
    "## For 100 cycles"
   ]
  },
  {
   "cell_type": "code",
   "execution_count": 71,
   "id": "53111cff",
   "metadata": {},
   "outputs": [
    {
     "name": "stdout",
     "output_type": "stream",
     "text": [
      "rmse5: 0.00290929961970047\n",
      "mse5: 8.464024277189299e-06\n",
      "mae5: 0.002396936292282607\n",
      "RMSEP5: 0.004364814314106548\n"
     ]
    }
   ],
   "source": [
    "print('rmse5:', rmse5)\n",
    "print('mse5:', mse5)\n",
    "print('mae5:', mae5)\n",
    "print('RMSEP5:', rmsep5[0])"
   ]
  },
  {
   "cell_type": "markdown",
   "id": "0cedd23f",
   "metadata": {},
   "source": [
    "## For 110 cycles"
   ]
  },
  {
   "cell_type": "code",
   "execution_count": 72,
   "id": "a347a7d6",
   "metadata": {},
   "outputs": [
    {
     "name": "stdout",
     "output_type": "stream",
     "text": [
      "rmse6: 0.004382939438661222\n",
      "mse6: 1.9210158122971948e-05\n",
      "mae6: 0.0036066495388392865\n",
      "RMSEP6: 0.006598825195946319\n"
     ]
    }
   ],
   "source": [
    "print('rmse6:', rmse6)\n",
    "print('mse6:', mse6)\n",
    "print('mae6:', mae6)\n",
    "print('RMSEP6:', rmsep6[0])"
   ]
  },
  {
   "cell_type": "markdown",
   "id": "e04556e8",
   "metadata": {},
   "source": [
    "## For 120 cycles"
   ]
  },
  {
   "cell_type": "code",
   "execution_count": 73,
   "id": "62320667",
   "metadata": {},
   "outputs": [
    {
     "name": "stdout",
     "output_type": "stream",
     "text": [
      "rmse7: 0.004712296297543564\n",
      "mse7: 2.2205736395842784e-05\n",
      "mae7: 0.0038160529155158063\n",
      "RMSEP7: 0.007094033251269254\n"
     ]
    }
   ],
   "source": [
    "print('rmse7:', rmse7)\n",
    "print('mse7:', mse7)\n",
    "print('mae7:', mae7)\n",
    "print('RMSEP7:', rmsep7[0])"
   ]
  },
  {
   "cell_type": "markdown",
   "id": "13f7c162",
   "metadata": {},
   "source": [
    "## Comparision"
   ]
  },
  {
   "cell_type": "code",
   "execution_count": 74,
   "id": "8f0290dc",
   "metadata": {},
   "outputs": [
    {
     "data": {
      "text/html": [
       "<div>\n",
       "<style scoped>\n",
       "    .dataframe tbody tr th:only-of-type {\n",
       "        vertical-align: middle;\n",
       "    }\n",
       "\n",
       "    .dataframe tbody tr th {\n",
       "        vertical-align: top;\n",
       "    }\n",
       "\n",
       "    .dataframe thead th {\n",
       "        text-align: right;\n",
       "    }\n",
       "</style>\n",
       "<table border=\"1\" class=\"dataframe\">\n",
       "  <thead>\n",
       "    <tr style=\"text-align: right;\">\n",
       "      <th></th>\n",
       "      <th>cycles</th>\n",
       "      <th>rmse</th>\n",
       "      <th>mse</th>\n",
       "      <th>mae</th>\n",
       "      <th>rmsep</th>\n",
       "    </tr>\n",
       "  </thead>\n",
       "  <tbody>\n",
       "    <tr>\n",
       "      <th>0</th>\n",
       "      <td>60</td>\n",
       "      <td>0.003584</td>\n",
       "      <td>0.000013</td>\n",
       "      <td>0.003128</td>\n",
       "      <td>0.005420</td>\n",
       "    </tr>\n",
       "    <tr>\n",
       "      <th>1</th>\n",
       "      <td>70</td>\n",
       "      <td>0.005710</td>\n",
       "      <td>0.000033</td>\n",
       "      <td>0.005113</td>\n",
       "      <td>0.008624</td>\n",
       "    </tr>\n",
       "    <tr>\n",
       "      <th>2</th>\n",
       "      <td>80</td>\n",
       "      <td>0.006445</td>\n",
       "      <td>0.000042</td>\n",
       "      <td>0.005620</td>\n",
       "      <td>0.009733</td>\n",
       "    </tr>\n",
       "    <tr>\n",
       "      <th>3</th>\n",
       "      <td>90</td>\n",
       "      <td>0.004394</td>\n",
       "      <td>0.000019</td>\n",
       "      <td>0.003774</td>\n",
       "      <td>0.006619</td>\n",
       "    </tr>\n",
       "    <tr>\n",
       "      <th>4</th>\n",
       "      <td>100</td>\n",
       "      <td>0.002909</td>\n",
       "      <td>0.000008</td>\n",
       "      <td>0.002397</td>\n",
       "      <td>0.004365</td>\n",
       "    </tr>\n",
       "    <tr>\n",
       "      <th>5</th>\n",
       "      <td>110</td>\n",
       "      <td>0.004383</td>\n",
       "      <td>0.000019</td>\n",
       "      <td>0.003607</td>\n",
       "      <td>0.006599</td>\n",
       "    </tr>\n",
       "    <tr>\n",
       "      <th>6</th>\n",
       "      <td>120</td>\n",
       "      <td>0.004712</td>\n",
       "      <td>0.000022</td>\n",
       "      <td>0.003816</td>\n",
       "      <td>0.007094</td>\n",
       "    </tr>\n",
       "  </tbody>\n",
       "</table>\n",
       "</div>"
      ],
      "text/plain": [
       "   cycles      rmse       mse       mae     rmsep\n",
       "0      60  0.003584  0.000013  0.003128  0.005420\n",
       "1      70  0.005710  0.000033  0.005113  0.008624\n",
       "2      80  0.006445  0.000042  0.005620  0.009733\n",
       "3      90  0.004394  0.000019  0.003774  0.006619\n",
       "4     100  0.002909  0.000008  0.002397  0.004365\n",
       "5     110  0.004383  0.000019  0.003607  0.006599\n",
       "6     120  0.004712  0.000022  0.003816  0.007094"
      ]
     },
     "execution_count": 74,
     "metadata": {},
     "output_type": "execute_result"
    }
   ],
   "source": [
    "df = pd.DataFrame({'cycles' : [60, 70, 80, 90, 100, 110, 120],\n",
    "                 'rmse' : [rmse1, rmse2, rmse3, rmse4, rmse5, rmse6, rmse7],\n",
    "                 'mse' : [mse1, mse2, mse3, mse4, mse5, mse6, mse7],\n",
    "                 'mae' : [mae1, mae2, mae3, mae4, mae5, mae6, mae7],\n",
    "                 'rmsep' : [rmsep1[0], rmsep2[0], rmsep3[0], rmsep4[0], rmsep5[0], rmsep6[0], rmsep7[0]] })\n",
    "df"
   ]
  },
  {
   "cell_type": "markdown",
   "id": "8e158e05",
   "metadata": {},
   "source": [
    "## Cycles vs RMSE"
   ]
  },
  {
   "cell_type": "code",
   "execution_count": 75,
   "id": "0f0090e0",
   "metadata": {},
   "outputs": [
    {
     "data": {
      "text/plain": [
       "<AxesSubplot:xlabel='cycles', ylabel='rmse'>"
      ]
     },
     "execution_count": 75,
     "metadata": {},
     "output_type": "execute_result"
    },
    {
     "data": {
      "image/png": "[encoded data removed]",
      "text/plain": [
       "<Figure size 432x288 with 1 Axes>"
      ]
     },
     "metadata": {
      "needs_background": "light"
     },
     "output_type": "display_data"
    }
   ],
   "source": [
    "import seaborn as sns\n",
    "sns.barplot(data=df, x=\"cycles\", y=\"rmse\")"
   ]
  },
  {
   "cell_type": "markdown",
   "id": "9f7949fa",
   "metadata": {},
   "source": [
    "## Cycles vs MSE"
   ]
  },
  {
   "cell_type": "code",
   "execution_count": 76,
   "id": "d6a22403",
   "metadata": {},
   "outputs": [
    {
     "data": {
      "text/plain": [
       "<AxesSubplot:xlabel='cycles', ylabel='mse'>"
      ]
     },
     "execution_count": 76,
     "metadata": {},
     "output_type": "execute_result"
    },
    {
     "data": {
      "image/png": "[encoded data removed]",
      "text/plain": [
       "<Figure size 432x288 with 1 Axes>"
      ]
     },
     "metadata": {
      "needs_background": "light"
     },
     "output_type": "display_data"
    }
   ],
   "source": [
    "sns.barplot(data=df, x=\"cycles\", y=\"mse\")"
   ]
  },
  {
   "cell_type": "markdown",
   "id": "87d313df",
   "metadata": {},
   "source": [
    "## Cycles vs MAE"
   ]
  },
  {
   "cell_type": "code",
   "execution_count": 77,
   "id": "15b0d534",
   "metadata": {},
   "outputs": [
    {
     "data": {
      "text/plain": [
       "<AxesSubplot:xlabel='cycles', ylabel='mae'>"
      ]
     },
     "execution_count": 77,
     "metadata": {},
     "output_type": "execute_result"
    },
    {
     "data": {
      "image/png": "[encoded data removed]",
      "text/plain": [
       "<Figure size 432x288 with 1 Axes>"
      ]
     },
     "metadata": {
      "needs_background": "light"
     },
     "output_type": "display_data"
    }
   ],
   "source": [
    "sns.barplot(data=df, x=\"cycles\", y=\"mae\")"
   ]
  },
  {
   "cell_type": "markdown",
   "id": "b576cf34",
   "metadata": {},
   "source": [
    "## Cycles vs RMSEP"
   ]
  },
  {
   "cell_type": "code",
   "execution_count": 78,
   "id": "1fb486a4",
   "metadata": {},
   "outputs": [
    {
     "data": {
      "text/plain": [
       "<AxesSubplot:xlabel='cycles', ylabel='rmsep'>"
      ]
     },
     "execution_count": 78,
     "metadata": {},
     "output_type": "execute_result"
    },
    {
     "data": {
      "image/png": "[encoded data removed]",
      "text/plain": [
       "<Figure size 432x288 with 1 Axes>"
      ]
     },
     "metadata": {
      "needs_background": "light"
     },
     "output_type": "display_data"
    }
   ],
   "source": [
    "sns.barplot(data=df, x=\"cycles\", y=\"rmsep\")"
   ]
  },
  {
   "cell_type": "code",
   "execution_count": 79,
   "id": "be8189e9",
   "metadata": {},
   "outputs": [
    {
     "data": {
      "text/html": [
       "<div>\n",
       "<style scoped>\n",
       "    .dataframe tbody tr th:only-of-type {\n",
       "        vertical-align: middle;\n",
       "    }\n",
       "\n",
       "    .dataframe tbody tr th {\n",
       "        vertical-align: top;\n",
       "    }\n",
       "\n",
       "    .dataframe thead th {\n",
       "        text-align: right;\n",
       "    }\n",
       "</style>\n",
       "<table border=\"1\" class=\"dataframe\">\n",
       "  <thead>\n",
       "    <tr style=\"text-align: right;\">\n",
       "      <th></th>\n",
       "      <th>cycles</th>\n",
       "      <th>error_type</th>\n",
       "      <th>error</th>\n",
       "    </tr>\n",
       "  </thead>\n",
       "  <tbody>\n",
       "    <tr>\n",
       "      <th>0</th>\n",
       "      <td>60</td>\n",
       "      <td>rmse</td>\n",
       "      <td>0.003584</td>\n",
       "    </tr>\n",
       "    <tr>\n",
       "      <th>1</th>\n",
       "      <td>70</td>\n",
       "      <td>rmse</td>\n",
       "      <td>0.005710</td>\n",
       "    </tr>\n",
       "    <tr>\n",
       "      <th>2</th>\n",
       "      <td>80</td>\n",
       "      <td>rmse</td>\n",
       "      <td>0.006445</td>\n",
       "    </tr>\n",
       "    <tr>\n",
       "      <th>3</th>\n",
       "      <td>90</td>\n",
       "      <td>rmse</td>\n",
       "      <td>0.004394</td>\n",
       "    </tr>\n",
       "    <tr>\n",
       "      <th>4</th>\n",
       "      <td>100</td>\n",
       "      <td>rmse</td>\n",
       "      <td>0.002909</td>\n",
       "    </tr>\n",
       "    <tr>\n",
       "      <th>5</th>\n",
       "      <td>110</td>\n",
       "      <td>rmse</td>\n",
       "      <td>0.004383</td>\n",
       "    </tr>\n",
       "    <tr>\n",
       "      <th>6</th>\n",
       "      <td>120</td>\n",
       "      <td>rmse</td>\n",
       "      <td>0.004712</td>\n",
       "    </tr>\n",
       "    <tr>\n",
       "      <th>7</th>\n",
       "      <td>60</td>\n",
       "      <td>mse</td>\n",
       "      <td>0.000013</td>\n",
       "    </tr>\n",
       "    <tr>\n",
       "      <th>8</th>\n",
       "      <td>70</td>\n",
       "      <td>mse</td>\n",
       "      <td>0.000033</td>\n",
       "    </tr>\n",
       "    <tr>\n",
       "      <th>9</th>\n",
       "      <td>80</td>\n",
       "      <td>mse</td>\n",
       "      <td>0.000042</td>\n",
       "    </tr>\n",
       "    <tr>\n",
       "      <th>10</th>\n",
       "      <td>90</td>\n",
       "      <td>mse</td>\n",
       "      <td>0.000019</td>\n",
       "    </tr>\n",
       "    <tr>\n",
       "      <th>11</th>\n",
       "      <td>100</td>\n",
       "      <td>mse</td>\n",
       "      <td>0.000008</td>\n",
       "    </tr>\n",
       "    <tr>\n",
       "      <th>12</th>\n",
       "      <td>110</td>\n",
       "      <td>mse</td>\n",
       "      <td>0.000019</td>\n",
       "    </tr>\n",
       "    <tr>\n",
       "      <th>13</th>\n",
       "      <td>120</td>\n",
       "      <td>mse</td>\n",
       "      <td>0.000022</td>\n",
       "    </tr>\n",
       "    <tr>\n",
       "      <th>14</th>\n",
       "      <td>60</td>\n",
       "      <td>mae</td>\n",
       "      <td>0.003128</td>\n",
       "    </tr>\n",
       "    <tr>\n",
       "      <th>15</th>\n",
       "      <td>70</td>\n",
       "      <td>mae</td>\n",
       "      <td>0.005113</td>\n",
       "    </tr>\n",
       "    <tr>\n",
       "      <th>16</th>\n",
       "      <td>80</td>\n",
       "      <td>mae</td>\n",
       "      <td>0.005620</td>\n",
       "    </tr>\n",
       "    <tr>\n",
       "      <th>17</th>\n",
       "      <td>90</td>\n",
       "      <td>mae</td>\n",
       "      <td>0.003774</td>\n",
       "    </tr>\n",
       "    <tr>\n",
       "      <th>18</th>\n",
       "      <td>100</td>\n",
       "      <td>mae</td>\n",
       "      <td>0.002397</td>\n",
       "    </tr>\n",
       "    <tr>\n",
       "      <th>19</th>\n",
       "      <td>110</td>\n",
       "      <td>mae</td>\n",
       "      <td>0.003607</td>\n",
       "    </tr>\n",
       "    <tr>\n",
       "      <th>20</th>\n",
       "      <td>120</td>\n",
       "      <td>mae</td>\n",
       "      <td>0.003816</td>\n",
       "    </tr>\n",
       "    <tr>\n",
       "      <th>21</th>\n",
       "      <td>60</td>\n",
       "      <td>rmsep</td>\n",
       "      <td>0.005420</td>\n",
       "    </tr>\n",
       "    <tr>\n",
       "      <th>22</th>\n",
       "      <td>70</td>\n",
       "      <td>rmsep</td>\n",
       "      <td>0.008624</td>\n",
       "    </tr>\n",
       "    <tr>\n",
       "      <th>23</th>\n",
       "      <td>80</td>\n",
       "      <td>rmsep</td>\n",
       "      <td>0.009733</td>\n",
       "    </tr>\n",
       "    <tr>\n",
       "      <th>24</th>\n",
       "      <td>90</td>\n",
       "      <td>rmsep</td>\n",
       "      <td>0.006619</td>\n",
       "    </tr>\n",
       "    <tr>\n",
       "      <th>25</th>\n",
       "      <td>100</td>\n",
       "      <td>rmsep</td>\n",
       "      <td>0.004365</td>\n",
       "    </tr>\n",
       "    <tr>\n",
       "      <th>26</th>\n",
       "      <td>110</td>\n",
       "      <td>rmsep</td>\n",
       "      <td>0.006599</td>\n",
       "    </tr>\n",
       "    <tr>\n",
       "      <th>27</th>\n",
       "      <td>120</td>\n",
       "      <td>rmsep</td>\n",
       "      <td>0.007094</td>\n",
       "    </tr>\n",
       "  </tbody>\n",
       "</table>\n",
       "</div>"
      ],
      "text/plain": [
       "    cycles error_type     error\n",
       "0       60       rmse  0.003584\n",
       "1       70       rmse  0.005710\n",
       "2       80       rmse  0.006445\n",
       "3       90       rmse  0.004394\n",
       "4      100       rmse  0.002909\n",
       "5      110       rmse  0.004383\n",
       "6      120       rmse  0.004712\n",
       "7       60        mse  0.000013\n",
       "8       70        mse  0.000033\n",
       "9       80        mse  0.000042\n",
       "10      90        mse  0.000019\n",
       "11     100        mse  0.000008\n",
       "12     110        mse  0.000019\n",
       "13     120        mse  0.000022\n",
       "14      60        mae  0.003128\n",
       "15      70        mae  0.005113\n",
       "16      80        mae  0.005620\n",
       "17      90        mae  0.003774\n",
       "18     100        mae  0.002397\n",
       "19     110        mae  0.003607\n",
       "20     120        mae  0.003816\n",
       "21      60      rmsep  0.005420\n",
       "22      70      rmsep  0.008624\n",
       "23      80      rmsep  0.009733\n",
       "24      90      rmsep  0.006619\n",
       "25     100      rmsep  0.004365\n",
       "26     110      rmsep  0.006599\n",
       "27     120      rmsep  0.007094"
      ]
     },
     "execution_count": 79,
     "metadata": {},
     "output_type": "execute_result"
    }
   ],
   "source": [
    "df1 = pd.DataFrame({'cycles' : [60, 70, 80, 90, 100, 110, 120, 60, 70, 80, 90, 100, 110, 120, 60, 70, 80, 90, 100, 110, 120, 60, 70, 80, 90, 100, 110, 120],\n",
    "                 'error_type' : ['rmse', 'rmse', 'rmse', 'rmse', 'rmse', 'rmse', 'rmse', 'mse', 'mse', 'mse', 'mse', 'mse', 'mse', 'mse', 'mae', 'mae', 'mae', 'mae', 'mae', 'mae', 'mae', 'rmsep', 'rmsep', 'rmsep', 'rmsep', 'rmsep', 'rmsep', 'rmsep'], \n",
    "                 'error' : [rmse1, rmse2, rmse3, rmse4, rmse5, rmse6, rmse7, mse1, mse2, mse3, mse4, mse5, mse6, mse7, mae1, mae2, mae3, mae4, mae5, mae6, mae7, rmsep1[0], rmsep2[0], rmsep3[0], rmsep4[0], rmsep5[0], rmsep6[0], rmsep7[0]]})\n",
    "df1"
   ]
  },
  {
   "cell_type": "code",
   "execution_count": 80,
   "id": "72dc644f",
   "metadata": {},
   "outputs": [
    {
     "data": {
      "text/plain": [
       "<AxesSubplot:xlabel='cycles', ylabel='error'>"
      ]
     },
     "execution_count": 80,
     "metadata": {},
     "output_type": "execute_result"
    },
    {
     "data": {
      "image/png": "[encoded data removed]",
      "text/plain": [
       "<Figure size 1080x576 with 1 Axes>"
      ]
     },
     "metadata": {
      "needs_background": "light"
     },
     "output_type": "display_data"
    }
   ],
   "source": [
    "import seaborn as sns\n",
    "plt.figure(figsize=(15,8))\n",
    "sns.barplot(data=df1, x=\"cycles\", y=\"error\", hue=\"error_type\")"
   ]
  },
  {
   "cell_type": "code",
   "execution_count": 81,
   "id": "a2d67941",
   "metadata": {},
   "outputs": [],
   "source": [
    "df.to_csv('Cycle_prediction_graphs.csv')"
   ]
  },
  {
   "cell_type": "code",
   "execution_count": null,
   "id": "d23bad94",
   "metadata": {},
   "outputs": [],
   "source": []
  }
 ],
 "metadata": {
  "kernelspec": {
   "display_name": "Python 3 (ipykernel)",
   "language": "python",
   "name": "python3"
  },
  "language_info": {
   "codemirror_mode": {
    "name": "ipython",
    "version": 3
   },
   "file_extension": ".py",
   "mimetype": "text/x-python",
   "name": "python",
   "nbconvert_exporter": "python",
   "pygments_lexer": "ipython3",
   "version": "3.7.0"
  }
 },
 "nbformat": 4,
 "nbformat_minor": 5
}
